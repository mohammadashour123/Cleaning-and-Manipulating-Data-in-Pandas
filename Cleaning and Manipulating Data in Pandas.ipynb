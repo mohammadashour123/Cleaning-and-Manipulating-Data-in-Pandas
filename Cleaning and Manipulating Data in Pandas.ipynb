{
 "cells": [
  {
   "cell_type": "markdown",
   "id": "cdf7f7d5",
   "metadata": {},
   "source": [
    "# Cleaning and Manipulating Data in Pandas"
   ]
  },
  {
   "cell_type": "markdown",
   "id": "2438ae6b",
   "metadata": {},
   "source": [
    "## What is Pnadas ? "
   ]
  },
  {
   "cell_type": "markdown",
   "id": "8d3c1c92",
   "metadata": {},
   "source": [
    "- Pandas is a Python library used for working with data sets.\n",
    "\n",
    "- It has functions for analyzing, cleaning, exploring, and manipulating data.\n",
    "\n",
    "- The name \"Pandas\" has a reference to both \"Panel Data\", and \"Python Data Analysis\" and was created by Wes McKinney in 2008.\n",
    "\n"
   ]
  },
  {
   "cell_type": "markdown",
   "id": "e308df65",
   "metadata": {},
   "source": [
    "## Why Use Pandas?\n"
   ]
  },
  {
   "cell_type": "markdown",
   "id": "fea4451a",
   "metadata": {},
   "source": [
    "- Pandas allows us to analyze big data and make conclusions based on statistical theories.\n",
    "\n",
    "- Pandas can clean messy data sets, and make them readable and relevant.\n",
    "\n",
    "- Relevant data is very important in data science."
   ]
  },
  {
   "cell_type": "markdown",
   "id": "2f7ff268",
   "metadata": {},
   "source": [
    "## What Can You Do With DataFrames Using Pandas?\n",
    "\n",
    "### Pandas makes it simple to do many of the time consuming, repetitive tasks associated with working with data, including:\n",
    "\n",
    "- Data cleansing\n",
    "- Data fill\n",
    "- Data normalization\n",
    "- Merges and joins\n",
    "- Data visualization\n",
    "- Statistical analysis\n",
    "- Data inspection\n",
    "- Loading and saving data\n",
    "- And much more"
   ]
  },
  {
   "cell_type": "code",
   "execution_count": null,
   "id": "e46467d3",
   "metadata": {},
   "outputs": [],
   "source": []
  },
  {
   "cell_type": "markdown",
   "id": "52976cf2",
   "metadata": {},
   "source": [
    "## Load Data pd.read_csv()"
   ]
  },
  {
   "cell_type": "code",
   "execution_count": 1,
   "id": "c8bb648b",
   "metadata": {},
   "outputs": [],
   "source": [
    "import pandas as pd "
   ]
  },
  {
   "cell_type": "code",
   "execution_count": 2,
   "id": "2f99f3b5",
   "metadata": {},
   "outputs": [],
   "source": [
    "data = pd.read_csv('gapminder_full.csv')"
   ]
  },
  {
   "cell_type": "markdown",
   "id": "142a7e40",
   "metadata": {},
   "source": [
    "## Get First Rows: df.head()"
   ]
  },
  {
   "cell_type": "code",
   "execution_count": 42,
   "id": "8ded0294",
   "metadata": {},
   "outputs": [
    {
     "data": {
      "text/html": [
       "<div>\n",
       "<style scoped>\n",
       "    .dataframe tbody tr th:only-of-type {\n",
       "        vertical-align: middle;\n",
       "    }\n",
       "\n",
       "    .dataframe tbody tr th {\n",
       "        vertical-align: top;\n",
       "    }\n",
       "\n",
       "    .dataframe thead th {\n",
       "        text-align: right;\n",
       "    }\n",
       "</style>\n",
       "<table border=\"1\" class=\"dataframe\">\n",
       "  <thead>\n",
       "    <tr style=\"text-align: right;\">\n",
       "      <th></th>\n",
       "      <th>country</th>\n",
       "      <th>year</th>\n",
       "      <th>population</th>\n",
       "      <th>continent</th>\n",
       "      <th>life_exp</th>\n",
       "      <th>gdp_cap</th>\n",
       "    </tr>\n",
       "  </thead>\n",
       "  <tbody>\n",
       "    <tr>\n",
       "      <th>0</th>\n",
       "      <td>Afghanistan</td>\n",
       "      <td>1952</td>\n",
       "      <td>8425333</td>\n",
       "      <td>Asia</td>\n",
       "      <td>28.801</td>\n",
       "      <td>779.445314</td>\n",
       "    </tr>\n",
       "    <tr>\n",
       "      <th>1</th>\n",
       "      <td>Afghanistan</td>\n",
       "      <td>1957</td>\n",
       "      <td>9240934</td>\n",
       "      <td>Asia</td>\n",
       "      <td>30.332</td>\n",
       "      <td>820.853030</td>\n",
       "    </tr>\n",
       "    <tr>\n",
       "      <th>2</th>\n",
       "      <td>Afghanistan</td>\n",
       "      <td>1962</td>\n",
       "      <td>10267083</td>\n",
       "      <td>Asia</td>\n",
       "      <td>31.997</td>\n",
       "      <td>853.100710</td>\n",
       "    </tr>\n",
       "    <tr>\n",
       "      <th>3</th>\n",
       "      <td>Afghanistan</td>\n",
       "      <td>1967</td>\n",
       "      <td>11537966</td>\n",
       "      <td>Asia</td>\n",
       "      <td>34.020</td>\n",
       "      <td>836.197138</td>\n",
       "    </tr>\n",
       "    <tr>\n",
       "      <th>4</th>\n",
       "      <td>Afghanistan</td>\n",
       "      <td>1972</td>\n",
       "      <td>13079460</td>\n",
       "      <td>Asia</td>\n",
       "      <td>36.088</td>\n",
       "      <td>739.981106</td>\n",
       "    </tr>\n",
       "  </tbody>\n",
       "</table>\n",
       "</div>"
      ],
      "text/plain": [
       "       country  year  population continent  life_exp     gdp_cap\n",
       "0  Afghanistan  1952     8425333      Asia    28.801  779.445314\n",
       "1  Afghanistan  1957     9240934      Asia    30.332  820.853030\n",
       "2  Afghanistan  1962    10267083      Asia    31.997  853.100710\n",
       "3  Afghanistan  1967    11537966      Asia    34.020  836.197138\n",
       "4  Afghanistan  1972    13079460      Asia    36.088  739.981106"
      ]
     },
     "execution_count": 42,
     "metadata": {},
     "output_type": "execute_result"
    }
   ],
   "source": [
    "data.head()"
   ]
  },
  {
   "cell_type": "code",
   "execution_count": null,
   "id": "181f89c7",
   "metadata": {},
   "outputs": [],
   "source": []
  },
  {
   "cell_type": "markdown",
   "id": "9d89c548",
   "metadata": {},
   "source": [
    "##  Get Columns: df.columns"
   ]
  },
  {
   "cell_type": "code",
   "execution_count": 43,
   "id": "4c6bb942",
   "metadata": {},
   "outputs": [
    {
     "data": {
      "text/plain": [
       "Index(['country', 'year', 'population', 'continent', 'life_exp', 'gdp_cap'], dtype='object')"
      ]
     },
     "execution_count": 43,
     "metadata": {},
     "output_type": "execute_result"
    }
   ],
   "source": [
    "data.columns"
   ]
  },
  {
   "cell_type": "markdown",
   "id": "0662d58f",
   "metadata": {},
   "source": [
    "## Get Index: df.index"
   ]
  },
  {
   "cell_type": "code",
   "execution_count": 44,
   "id": "f1e95845",
   "metadata": {},
   "outputs": [
    {
     "data": {
      "text/plain": [
       "RangeIndex(start=0, stop=1704, step=1)"
      ]
     },
     "execution_count": 44,
     "metadata": {},
     "output_type": "execute_result"
    }
   ],
   "source": [
    "data.index"
   ]
  },
  {
   "cell_type": "markdown",
   "id": "03b3da34",
   "metadata": {},
   "source": [
    "##  Get Body: df.values"
   ]
  },
  {
   "cell_type": "code",
   "execution_count": 45,
   "id": "fccd3b73",
   "metadata": {},
   "outputs": [
    {
     "data": {
      "text/plain": [
       "array([['Afghanistan', 1952, 8425333, 'Asia', 28.801, 779.4453145],\n",
       "       ['Afghanistan', 1957, 9240934, 'Asia', 30.332, 820.8530296],\n",
       "       ['Afghanistan', 1962, 10267083, 'Asia', 31.997, 853.10071],\n",
       "       ...,\n",
       "       ['Zimbabwe', 1997, 11404948, 'Africa', 46.809, 792.4499603],\n",
       "       ['Zimbabwe', 2002, 11926563, 'Africa', 39.989, 672.0386227],\n",
       "       ['Zimbabwe', 2007, 12311143, 'Africa', 43.487, 469.7092981]],\n",
       "      dtype=object)"
      ]
     },
     "execution_count": 45,
     "metadata": {},
     "output_type": "execute_result"
    }
   ],
   "source": [
    "data.values"
   ]
  },
  {
   "cell_type": "code",
   "execution_count": null,
   "id": "221e2829",
   "metadata": {},
   "outputs": [],
   "source": []
  },
  {
   "cell_type": "markdown",
   "id": "b062b833",
   "metadata": {},
   "source": [
    "##  Get shape: df.shape"
   ]
  },
  {
   "cell_type": "code",
   "execution_count": 46,
   "id": "9d8ab4cd",
   "metadata": {},
   "outputs": [
    {
     "data": {
      "text/plain": [
       "(1704, 6)"
      ]
     },
     "execution_count": 46,
     "metadata": {},
     "output_type": "execute_result"
    }
   ],
   "source": [
    "data.shape"
   ]
  },
  {
   "cell_type": "markdown",
   "id": "41dd37df",
   "metadata": {},
   "source": [
    "##  Get Summarizing Statistics: df.info()"
   ]
  },
  {
   "cell_type": "code",
   "execution_count": 47,
   "id": "219dfe27",
   "metadata": {},
   "outputs": [
    {
     "name": "stdout",
     "output_type": "stream",
     "text": [
      "<class 'pandas.core.frame.DataFrame'>\n",
      "RangeIndex: 1704 entries, 0 to 1703\n",
      "Data columns (total 6 columns):\n",
      " #   Column      Non-Null Count  Dtype  \n",
      "---  ------      --------------  -----  \n",
      " 0   country     1704 non-null   object \n",
      " 1   year        1704 non-null   int64  \n",
      " 2   population  1704 non-null   int64  \n",
      " 3   continent   1704 non-null   object \n",
      " 4   life_exp    1704 non-null   float64\n",
      " 5   gdp_cap     1704 non-null   float64\n",
      "dtypes: float64(2), int64(2), object(2)\n",
      "memory usage: 80.0+ KB\n"
     ]
    }
   ],
   "source": [
    "data.info()"
   ]
  },
  {
   "cell_type": "code",
   "execution_count": 24,
   "id": "66929f0a",
   "metadata": {},
   "outputs": [
    {
     "data": {
      "text/html": [
       "<div>\n",
       "<style scoped>\n",
       "    .dataframe tbody tr th:only-of-type {\n",
       "        vertical-align: middle;\n",
       "    }\n",
       "\n",
       "    .dataframe tbody tr th {\n",
       "        vertical-align: top;\n",
       "    }\n",
       "\n",
       "    .dataframe thead th {\n",
       "        text-align: right;\n",
       "    }\n",
       "</style>\n",
       "<table border=\"1\" class=\"dataframe\">\n",
       "  <thead>\n",
       "    <tr style=\"text-align: right;\">\n",
       "      <th></th>\n",
       "      <th>year</th>\n",
       "      <th>population</th>\n",
       "      <th>life_exp</th>\n",
       "      <th>gdp_cap</th>\n",
       "    </tr>\n",
       "  </thead>\n",
       "  <tbody>\n",
       "    <tr>\n",
       "      <th>count</th>\n",
       "      <td>1704.00000</td>\n",
       "      <td>1.704000e+03</td>\n",
       "      <td>1704.000000</td>\n",
       "      <td>1704.000000</td>\n",
       "    </tr>\n",
       "    <tr>\n",
       "      <th>mean</th>\n",
       "      <td>1979.50000</td>\n",
       "      <td>2.960121e+07</td>\n",
       "      <td>59.474439</td>\n",
       "      <td>7215.327081</td>\n",
       "    </tr>\n",
       "    <tr>\n",
       "      <th>std</th>\n",
       "      <td>17.26533</td>\n",
       "      <td>1.061579e+08</td>\n",
       "      <td>12.917107</td>\n",
       "      <td>9857.454543</td>\n",
       "    </tr>\n",
       "    <tr>\n",
       "      <th>min</th>\n",
       "      <td>1952.00000</td>\n",
       "      <td>6.001100e+04</td>\n",
       "      <td>23.599000</td>\n",
       "      <td>241.165876</td>\n",
       "    </tr>\n",
       "    <tr>\n",
       "      <th>25%</th>\n",
       "      <td>1965.75000</td>\n",
       "      <td>2.793664e+06</td>\n",
       "      <td>48.198000</td>\n",
       "      <td>1202.060309</td>\n",
       "    </tr>\n",
       "    <tr>\n",
       "      <th>50%</th>\n",
       "      <td>1979.50000</td>\n",
       "      <td>7.023596e+06</td>\n",
       "      <td>60.712500</td>\n",
       "      <td>3531.846988</td>\n",
       "    </tr>\n",
       "    <tr>\n",
       "      <th>75%</th>\n",
       "      <td>1993.25000</td>\n",
       "      <td>1.958522e+07</td>\n",
       "      <td>70.845500</td>\n",
       "      <td>9325.462346</td>\n",
       "    </tr>\n",
       "    <tr>\n",
       "      <th>max</th>\n",
       "      <td>2007.00000</td>\n",
       "      <td>1.318683e+09</td>\n",
       "      <td>82.603000</td>\n",
       "      <td>113523.132900</td>\n",
       "    </tr>\n",
       "  </tbody>\n",
       "</table>\n",
       "</div>"
      ],
      "text/plain": [
       "             year    population     life_exp        gdp_cap\n",
       "count  1704.00000  1.704000e+03  1704.000000    1704.000000\n",
       "mean   1979.50000  2.960121e+07    59.474439    7215.327081\n",
       "std      17.26533  1.061579e+08    12.917107    9857.454543\n",
       "min    1952.00000  6.001100e+04    23.599000     241.165876\n",
       "25%    1965.75000  2.793664e+06    48.198000    1202.060309\n",
       "50%    1979.50000  7.023596e+06    60.712500    3531.846988\n",
       "75%    1993.25000  1.958522e+07    70.845500    9325.462346\n",
       "max    2007.00000  1.318683e+09    82.603000  113523.132900"
      ]
     },
     "execution_count": 24,
     "metadata": {},
     "output_type": "execute_result"
    }
   ],
   "source": [
    "data.describe()\n",
    "# Only work with Numirical Vlues "
   ]
  },
  {
   "cell_type": "code",
   "execution_count": null,
   "id": "ee7f3336",
   "metadata": {},
   "outputs": [],
   "source": []
  },
  {
   "cell_type": "markdown",
   "id": "f6eca9a8",
   "metadata": {},
   "source": [
    " ## Filtering, Slicing a Dataset / Dataframe\n",
    " ###  Extract a Single Column: df['col_name']"
   ]
  },
  {
   "cell_type": "code",
   "execution_count": 48,
   "id": "c27db776",
   "metadata": {},
   "outputs": [
    {
     "data": {
      "text/plain": [
       "0       Afghanistan\n",
       "1       Afghanistan\n",
       "2       Afghanistan\n",
       "3       Afghanistan\n",
       "4       Afghanistan\n",
       "           ...     \n",
       "1699       Zimbabwe\n",
       "1700       Zimbabwe\n",
       "1701       Zimbabwe\n",
       "1702       Zimbabwe\n",
       "1703       Zimbabwe\n",
       "Name: country, Length: 1704, dtype: object"
      ]
     },
     "execution_count": 48,
     "metadata": {},
     "output_type": "execute_result"
    }
   ],
   "source": [
    "data['country']"
   ]
  },
  {
   "cell_type": "code",
   "execution_count": 49,
   "id": "a17ff986",
   "metadata": {},
   "outputs": [],
   "source": [
    "# save column in a variable \n",
    "country_col = data['country']"
   ]
  },
  {
   "cell_type": "code",
   "execution_count": 50,
   "id": "d947ae91",
   "metadata": {},
   "outputs": [
    {
     "data": {
      "text/plain": [
       "0    Afghanistan\n",
       "1    Afghanistan\n",
       "2    Afghanistan\n",
       "3    Afghanistan\n",
       "4    Afghanistan\n",
       "Name: country, dtype: object"
      ]
     },
     "execution_count": 50,
     "metadata": {},
     "output_type": "execute_result"
    }
   ],
   "source": [
    "# get the head or first some values of the column \n",
    "country_col.head()"
   ]
  },
  {
   "cell_type": "code",
   "execution_count": 51,
   "id": "2b6754bb",
   "metadata": {},
   "outputs": [
    {
     "data": {
      "text/plain": [
       "pandas.core.series.Series"
      ]
     },
     "execution_count": 51,
     "metadata": {},
     "output_type": "execute_result"
    }
   ],
   "source": [
    "# check Type \n",
    "type(country_col)\n",
    "# pandas series \n",
    "#  A Pandas Series is like a column in a table. It is a one-dimensional array holding data of any type"
   ]
  },
  {
   "cell_type": "code",
   "execution_count": null,
   "id": "87c609bf",
   "metadata": {},
   "outputs": [],
   "source": []
  },
  {
   "cell_type": "markdown",
   "id": "002e5de7",
   "metadata": {},
   "source": [
    " ## Extract N Columns: df[['col1_name', 'col2_name']]"
   ]
  },
  {
   "cell_type": "code",
   "execution_count": 27,
   "id": "2f3c4366",
   "metadata": {},
   "outputs": [],
   "source": [
    "subset_df = data[['country' , 'year' , 'life_exp' , 'population']]\n",
    "# we use [] if we neet ro extract more than 1 column "
   ]
  },
  {
   "cell_type": "code",
   "execution_count": 28,
   "id": "d9ff36e5",
   "metadata": {},
   "outputs": [
    {
     "data": {
      "text/html": [
       "<div>\n",
       "<style scoped>\n",
       "    .dataframe tbody tr th:only-of-type {\n",
       "        vertical-align: middle;\n",
       "    }\n",
       "\n",
       "    .dataframe tbody tr th {\n",
       "        vertical-align: top;\n",
       "    }\n",
       "\n",
       "    .dataframe thead th {\n",
       "        text-align: right;\n",
       "    }\n",
       "</style>\n",
       "<table border=\"1\" class=\"dataframe\">\n",
       "  <thead>\n",
       "    <tr style=\"text-align: right;\">\n",
       "      <th></th>\n",
       "      <th>country</th>\n",
       "      <th>year</th>\n",
       "      <th>life_exp</th>\n",
       "      <th>population</th>\n",
       "    </tr>\n",
       "  </thead>\n",
       "  <tbody>\n",
       "    <tr>\n",
       "      <th>0</th>\n",
       "      <td>Afghanistan</td>\n",
       "      <td>1952</td>\n",
       "      <td>28.801</td>\n",
       "      <td>8425333</td>\n",
       "    </tr>\n",
       "    <tr>\n",
       "      <th>1</th>\n",
       "      <td>Afghanistan</td>\n",
       "      <td>1957</td>\n",
       "      <td>30.332</td>\n",
       "      <td>9240934</td>\n",
       "    </tr>\n",
       "    <tr>\n",
       "      <th>2</th>\n",
       "      <td>Afghanistan</td>\n",
       "      <td>1962</td>\n",
       "      <td>31.997</td>\n",
       "      <td>10267083</td>\n",
       "    </tr>\n",
       "    <tr>\n",
       "      <th>3</th>\n",
       "      <td>Afghanistan</td>\n",
       "      <td>1967</td>\n",
       "      <td>34.020</td>\n",
       "      <td>11537966</td>\n",
       "    </tr>\n",
       "    <tr>\n",
       "      <th>4</th>\n",
       "      <td>Afghanistan</td>\n",
       "      <td>1972</td>\n",
       "      <td>36.088</td>\n",
       "      <td>13079460</td>\n",
       "    </tr>\n",
       "  </tbody>\n",
       "</table>\n",
       "</div>"
      ],
      "text/plain": [
       "       country  year  life_exp  population\n",
       "0  Afghanistan  1952    28.801     8425333\n",
       "1  Afghanistan  1957    30.332     9240934\n",
       "2  Afghanistan  1962    31.997    10267083\n",
       "3  Afghanistan  1967    34.020    11537966\n",
       "4  Afghanistan  1972    36.088    13079460"
      ]
     },
     "execution_count": 28,
     "metadata": {},
     "output_type": "execute_result"
    }
   ],
   "source": [
    "subset_df.head()"
   ]
  },
  {
   "cell_type": "code",
   "execution_count": 29,
   "id": "9b27d2b6",
   "metadata": {},
   "outputs": [
    {
     "data": {
      "text/plain": [
       "pandas.core.frame.DataFrame"
      ]
     },
     "execution_count": 29,
     "metadata": {},
     "output_type": "execute_result"
    }
   ],
   "source": [
    "type(subset_df)\n",
    "# pandas dataframe \n",
    "# A Pandas DataFrame is a 2 dimensional data structure, like a 2 dimensional array, \n",
    "# or a table with rows and columns."
   ]
  },
  {
   "cell_type": "code",
   "execution_count": null,
   "id": "c1ba7558",
   "metadata": {},
   "outputs": [],
   "source": []
  },
  {
   "cell_type": "markdown",
   "id": "8e2a5a24",
   "metadata": {},
   "source": [
    "##  Panda's Version: pd.version"
   ]
  },
  {
   "cell_type": "code",
   "execution_count": 30,
   "id": "85219d75",
   "metadata": {},
   "outputs": [
    {
     "data": {
      "text/plain": [
       "'1.2.4'"
      ]
     },
     "execution_count": 30,
     "metadata": {},
     "output_type": "execute_result"
    }
   ],
   "source": [
    "pd.__version__"
   ]
  },
  {
   "cell_type": "code",
   "execution_count": null,
   "id": "e0d0ff2f",
   "metadata": {},
   "outputs": [],
   "source": []
  },
  {
   "cell_type": "markdown",
   "id": "b19dbed9",
   "metadata": {},
   "source": [
    " ## Extract Rows: df.loc"
   ]
  },
  {
   "cell_type": "code",
   "execution_count": 31,
   "id": "345c3691",
   "metadata": {
    "scrolled": true
   },
   "outputs": [
    {
     "data": {
      "text/html": [
       "<div>\n",
       "<style scoped>\n",
       "    .dataframe tbody tr th:only-of-type {\n",
       "        vertical-align: middle;\n",
       "    }\n",
       "\n",
       "    .dataframe tbody tr th {\n",
       "        vertical-align: top;\n",
       "    }\n",
       "\n",
       "    .dataframe thead th {\n",
       "        text-align: right;\n",
       "    }\n",
       "</style>\n",
       "<table border=\"1\" class=\"dataframe\">\n",
       "  <thead>\n",
       "    <tr style=\"text-align: right;\">\n",
       "      <th></th>\n",
       "      <th>country</th>\n",
       "      <th>year</th>\n",
       "      <th>population</th>\n",
       "      <th>continent</th>\n",
       "      <th>life_exp</th>\n",
       "      <th>gdp_cap</th>\n",
       "    </tr>\n",
       "  </thead>\n",
       "  <tbody>\n",
       "    <tr>\n",
       "      <th>0</th>\n",
       "      <td>Afghanistan</td>\n",
       "      <td>1952</td>\n",
       "      <td>8425333</td>\n",
       "      <td>Asia</td>\n",
       "      <td>28.801</td>\n",
       "      <td>779.445314</td>\n",
       "    </tr>\n",
       "    <tr>\n",
       "      <th>1</th>\n",
       "      <td>Afghanistan</td>\n",
       "      <td>1957</td>\n",
       "      <td>9240934</td>\n",
       "      <td>Asia</td>\n",
       "      <td>30.332</td>\n",
       "      <td>820.853030</td>\n",
       "    </tr>\n",
       "    <tr>\n",
       "      <th>2</th>\n",
       "      <td>Afghanistan</td>\n",
       "      <td>1962</td>\n",
       "      <td>10267083</td>\n",
       "      <td>Asia</td>\n",
       "      <td>31.997</td>\n",
       "      <td>853.100710</td>\n",
       "    </tr>\n",
       "    <tr>\n",
       "      <th>3</th>\n",
       "      <td>Afghanistan</td>\n",
       "      <td>1967</td>\n",
       "      <td>11537966</td>\n",
       "      <td>Asia</td>\n",
       "      <td>34.020</td>\n",
       "      <td>836.197138</td>\n",
       "    </tr>\n",
       "    <tr>\n",
       "      <th>4</th>\n",
       "      <td>Afghanistan</td>\n",
       "      <td>1972</td>\n",
       "      <td>13079460</td>\n",
       "      <td>Asia</td>\n",
       "      <td>36.088</td>\n",
       "      <td>739.981106</td>\n",
       "    </tr>\n",
       "  </tbody>\n",
       "</table>\n",
       "</div>"
      ],
      "text/plain": [
       "       country  year  population continent  life_exp     gdp_cap\n",
       "0  Afghanistan  1952     8425333      Asia    28.801  779.445314\n",
       "1  Afghanistan  1957     9240934      Asia    30.332  820.853030\n",
       "2  Afghanistan  1962    10267083      Asia    31.997  853.100710\n",
       "3  Afghanistan  1967    11537966      Asia    34.020  836.197138\n",
       "4  Afghanistan  1972    13079460      Asia    36.088  739.981106"
      ]
     },
     "execution_count": 31,
     "metadata": {},
     "output_type": "execute_result"
    }
   ],
   "source": [
    "data.head()"
   ]
  },
  {
   "cell_type": "code",
   "execution_count": 32,
   "id": "13e1d3f1",
   "metadata": {},
   "outputs": [
    {
     "data": {
      "text/plain": [
       "country       Afghanistan\n",
       "year                 1962\n",
       "life_exp           31.997\n",
       "population       10267083\n",
       "Name: 2, dtype: object"
      ]
     },
     "execution_count": 32,
     "metadata": {},
     "output_type": "execute_result"
    }
   ],
   "source": [
    "subset_df.loc[2]\n",
    "# loc selects rows and columns with specific labels"
   ]
  },
  {
   "cell_type": "code",
   "execution_count": 58,
   "id": "9a956468",
   "metadata": {},
   "outputs": [
    {
     "data": {
      "text/html": [
       "<div>\n",
       "<style scoped>\n",
       "    .dataframe tbody tr th:only-of-type {\n",
       "        vertical-align: middle;\n",
       "    }\n",
       "\n",
       "    .dataframe tbody tr th {\n",
       "        vertical-align: top;\n",
       "    }\n",
       "\n",
       "    .dataframe thead th {\n",
       "        text-align: right;\n",
       "    }\n",
       "</style>\n",
       "<table border=\"1\" class=\"dataframe\">\n",
       "  <thead>\n",
       "    <tr style=\"text-align: right;\">\n",
       "      <th></th>\n",
       "      <th>country</th>\n",
       "      <th>year</th>\n",
       "      <th>life_exp</th>\n",
       "      <th>population</th>\n",
       "    </tr>\n",
       "  </thead>\n",
       "  <tbody>\n",
       "    <tr>\n",
       "      <th>2</th>\n",
       "      <td>Afghanistan</td>\n",
       "      <td>1962</td>\n",
       "      <td>31.997</td>\n",
       "      <td>10267083</td>\n",
       "    </tr>\n",
       "    <tr>\n",
       "      <th>66</th>\n",
       "      <td>Australia</td>\n",
       "      <td>1982</td>\n",
       "      <td>74.740</td>\n",
       "      <td>15184200</td>\n",
       "    </tr>\n",
       "    <tr>\n",
       "      <th>55</th>\n",
       "      <td>Argentina</td>\n",
       "      <td>1987</td>\n",
       "      <td>70.774</td>\n",
       "      <td>31620918</td>\n",
       "    </tr>\n",
       "    <tr>\n",
       "      <th>4</th>\n",
       "      <td>Afghanistan</td>\n",
       "      <td>1972</td>\n",
       "      <td>36.088</td>\n",
       "      <td>13079460</td>\n",
       "    </tr>\n",
       "    <tr>\n",
       "      <th>6</th>\n",
       "      <td>Afghanistan</td>\n",
       "      <td>1982</td>\n",
       "      <td>39.854</td>\n",
       "      <td>12881816</td>\n",
       "    </tr>\n",
       "    <tr>\n",
       "      <th>7</th>\n",
       "      <td>Afghanistan</td>\n",
       "      <td>1987</td>\n",
       "      <td>40.822</td>\n",
       "      <td>13867957</td>\n",
       "    </tr>\n",
       "    <tr>\n",
       "      <th>61</th>\n",
       "      <td>Australia</td>\n",
       "      <td>1957</td>\n",
       "      <td>70.330</td>\n",
       "      <td>9712569</td>\n",
       "    </tr>\n",
       "    <tr>\n",
       "      <th>687</th>\n",
       "      <td>Iceland</td>\n",
       "      <td>1967</td>\n",
       "      <td>73.730</td>\n",
       "      <td>198676</td>\n",
       "    </tr>\n",
       "    <tr>\n",
       "      <th>8</th>\n",
       "      <td>Afghanistan</td>\n",
       "      <td>1992</td>\n",
       "      <td>41.674</td>\n",
       "      <td>16317921</td>\n",
       "    </tr>\n",
       "  </tbody>\n",
       "</table>\n",
       "</div>"
      ],
      "text/plain": [
       "         country  year  life_exp  population\n",
       "2    Afghanistan  1962    31.997    10267083\n",
       "66     Australia  1982    74.740    15184200\n",
       "55     Argentina  1987    70.774    31620918\n",
       "4    Afghanistan  1972    36.088    13079460\n",
       "6    Afghanistan  1982    39.854    12881816\n",
       "7    Afghanistan  1987    40.822    13867957\n",
       "61     Australia  1957    70.330     9712569\n",
       "687      Iceland  1967    73.730      198676\n",
       "8    Afghanistan  1992    41.674    16317921"
      ]
     },
     "execution_count": 58,
     "metadata": {},
     "output_type": "execute_result"
    }
   ],
   "source": [
    "# get multiple rows , remember we use [ ]\n",
    "subset_df.loc[[2,66, 55,4,6,7,61,687,8]]"
   ]
  },
  {
   "cell_type": "code",
   "execution_count": null,
   "id": "3e4ae932",
   "metadata": {},
   "outputs": [],
   "source": []
  },
  {
   "cell_type": "markdown",
   "id": "1f6b7446",
   "metadata": {},
   "source": [
    "##  Extract Multiple Rows and Columns"
   ]
  },
  {
   "cell_type": "code",
   "execution_count": 59,
   "id": "fc19573a",
   "metadata": {},
   "outputs": [],
   "source": [
    "# get all rows and only year and life_exp columns \n",
    "subset_df_2 = data.loc[: , ['year' , 'life_exp']]\n",
    "# in python if i need to get all rows or columns ,  put single sclicing notation"
   ]
  },
  {
   "cell_type": "code",
   "execution_count": 60,
   "id": "cccdde16",
   "metadata": {},
   "outputs": [
    {
     "data": {
      "text/html": [
       "<div>\n",
       "<style scoped>\n",
       "    .dataframe tbody tr th:only-of-type {\n",
       "        vertical-align: middle;\n",
       "    }\n",
       "\n",
       "    .dataframe tbody tr th {\n",
       "        vertical-align: top;\n",
       "    }\n",
       "\n",
       "    .dataframe thead th {\n",
       "        text-align: right;\n",
       "    }\n",
       "</style>\n",
       "<table border=\"1\" class=\"dataframe\">\n",
       "  <thead>\n",
       "    <tr style=\"text-align: right;\">\n",
       "      <th></th>\n",
       "      <th>year</th>\n",
       "      <th>life_exp</th>\n",
       "    </tr>\n",
       "  </thead>\n",
       "  <tbody>\n",
       "    <tr>\n",
       "      <th>0</th>\n",
       "      <td>1952</td>\n",
       "      <td>28.801</td>\n",
       "    </tr>\n",
       "    <tr>\n",
       "      <th>1</th>\n",
       "      <td>1957</td>\n",
       "      <td>30.332</td>\n",
       "    </tr>\n",
       "    <tr>\n",
       "      <th>2</th>\n",
       "      <td>1962</td>\n",
       "      <td>31.997</td>\n",
       "    </tr>\n",
       "    <tr>\n",
       "      <th>3</th>\n",
       "      <td>1967</td>\n",
       "      <td>34.020</td>\n",
       "    </tr>\n",
       "    <tr>\n",
       "      <th>4</th>\n",
       "      <td>1972</td>\n",
       "      <td>36.088</td>\n",
       "    </tr>\n",
       "    <tr>\n",
       "      <th>...</th>\n",
       "      <td>...</td>\n",
       "      <td>...</td>\n",
       "    </tr>\n",
       "    <tr>\n",
       "      <th>1699</th>\n",
       "      <td>1987</td>\n",
       "      <td>62.351</td>\n",
       "    </tr>\n",
       "    <tr>\n",
       "      <th>1700</th>\n",
       "      <td>1992</td>\n",
       "      <td>60.377</td>\n",
       "    </tr>\n",
       "    <tr>\n",
       "      <th>1701</th>\n",
       "      <td>1997</td>\n",
       "      <td>46.809</td>\n",
       "    </tr>\n",
       "    <tr>\n",
       "      <th>1702</th>\n",
       "      <td>2002</td>\n",
       "      <td>39.989</td>\n",
       "    </tr>\n",
       "    <tr>\n",
       "      <th>1703</th>\n",
       "      <td>2007</td>\n",
       "      <td>43.487</td>\n",
       "    </tr>\n",
       "  </tbody>\n",
       "</table>\n",
       "<p>1704 rows × 2 columns</p>\n",
       "</div>"
      ],
      "text/plain": [
       "      year  life_exp\n",
       "0     1952    28.801\n",
       "1     1957    30.332\n",
       "2     1962    31.997\n",
       "3     1967    34.020\n",
       "4     1972    36.088\n",
       "...    ...       ...\n",
       "1699  1987    62.351\n",
       "1700  1992    60.377\n",
       "1701  1997    46.809\n",
       "1702  2002    39.989\n",
       "1703  2007    43.487\n",
       "\n",
       "[1704 rows x 2 columns]"
      ]
     },
     "execution_count": 60,
     "metadata": {},
     "output_type": "execute_result"
    }
   ],
   "source": [
    "subset_df_2"
   ]
  },
  {
   "cell_type": "code",
   "execution_count": null,
   "id": "c4403cbd",
   "metadata": {},
   "outputs": [],
   "source": []
  },
  {
   "cell_type": "markdown",
   "id": "953ab2e5",
   "metadata": {},
   "source": [
    "## Extract Rows using Boolean Subsetting\n"
   ]
  },
  {
   "cell_type": "code",
   "execution_count": 35,
   "id": "c9f6e25f",
   "metadata": {},
   "outputs": [
    {
     "data": {
      "text/html": [
       "<div>\n",
       "<style scoped>\n",
       "    .dataframe tbody tr th:only-of-type {\n",
       "        vertical-align: middle;\n",
       "    }\n",
       "\n",
       "    .dataframe tbody tr th {\n",
       "        vertical-align: top;\n",
       "    }\n",
       "\n",
       "    .dataframe thead th {\n",
       "        text-align: right;\n",
       "    }\n",
       "</style>\n",
       "<table border=\"1\" class=\"dataframe\">\n",
       "  <thead>\n",
       "    <tr style=\"text-align: right;\">\n",
       "      <th></th>\n",
       "      <th>country</th>\n",
       "      <th>year</th>\n",
       "      <th>population</th>\n",
       "      <th>continent</th>\n",
       "      <th>life_exp</th>\n",
       "      <th>gdp_cap</th>\n",
       "    </tr>\n",
       "  </thead>\n",
       "  <tbody>\n",
       "    <tr>\n",
       "      <th>0</th>\n",
       "      <td>Afghanistan</td>\n",
       "      <td>1952</td>\n",
       "      <td>8425333</td>\n",
       "      <td>Asia</td>\n",
       "      <td>28.801</td>\n",
       "      <td>779.445314</td>\n",
       "    </tr>\n",
       "    <tr>\n",
       "      <th>1</th>\n",
       "      <td>Afghanistan</td>\n",
       "      <td>1957</td>\n",
       "      <td>9240934</td>\n",
       "      <td>Asia</td>\n",
       "      <td>30.332</td>\n",
       "      <td>820.853030</td>\n",
       "    </tr>\n",
       "    <tr>\n",
       "      <th>2</th>\n",
       "      <td>Afghanistan</td>\n",
       "      <td>1962</td>\n",
       "      <td>10267083</td>\n",
       "      <td>Asia</td>\n",
       "      <td>31.997</td>\n",
       "      <td>853.100710</td>\n",
       "    </tr>\n",
       "    <tr>\n",
       "      <th>3</th>\n",
       "      <td>Afghanistan</td>\n",
       "      <td>1967</td>\n",
       "      <td>11537966</td>\n",
       "      <td>Asia</td>\n",
       "      <td>34.020</td>\n",
       "      <td>836.197138</td>\n",
       "    </tr>\n",
       "    <tr>\n",
       "      <th>4</th>\n",
       "      <td>Afghanistan</td>\n",
       "      <td>1972</td>\n",
       "      <td>13079460</td>\n",
       "      <td>Asia</td>\n",
       "      <td>36.088</td>\n",
       "      <td>739.981106</td>\n",
       "    </tr>\n",
       "    <tr>\n",
       "      <th>5</th>\n",
       "      <td>Afghanistan</td>\n",
       "      <td>1977</td>\n",
       "      <td>14880372</td>\n",
       "      <td>Asia</td>\n",
       "      <td>38.438</td>\n",
       "      <td>786.113360</td>\n",
       "    </tr>\n",
       "    <tr>\n",
       "      <th>6</th>\n",
       "      <td>Afghanistan</td>\n",
       "      <td>1982</td>\n",
       "      <td>12881816</td>\n",
       "      <td>Asia</td>\n",
       "      <td>39.854</td>\n",
       "      <td>978.011439</td>\n",
       "    </tr>\n",
       "    <tr>\n",
       "      <th>7</th>\n",
       "      <td>Afghanistan</td>\n",
       "      <td>1987</td>\n",
       "      <td>13867957</td>\n",
       "      <td>Asia</td>\n",
       "      <td>40.822</td>\n",
       "      <td>852.395945</td>\n",
       "    </tr>\n",
       "    <tr>\n",
       "      <th>8</th>\n",
       "      <td>Afghanistan</td>\n",
       "      <td>1992</td>\n",
       "      <td>16317921</td>\n",
       "      <td>Asia</td>\n",
       "      <td>41.674</td>\n",
       "      <td>649.341395</td>\n",
       "    </tr>\n",
       "    <tr>\n",
       "      <th>9</th>\n",
       "      <td>Afghanistan</td>\n",
       "      <td>1997</td>\n",
       "      <td>22227415</td>\n",
       "      <td>Asia</td>\n",
       "      <td>41.763</td>\n",
       "      <td>635.341351</td>\n",
       "    </tr>\n",
       "    <tr>\n",
       "      <th>10</th>\n",
       "      <td>Afghanistan</td>\n",
       "      <td>2002</td>\n",
       "      <td>25268405</td>\n",
       "      <td>Asia</td>\n",
       "      <td>42.129</td>\n",
       "      <td>726.734055</td>\n",
       "    </tr>\n",
       "    <tr>\n",
       "      <th>11</th>\n",
       "      <td>Afghanistan</td>\n",
       "      <td>2007</td>\n",
       "      <td>31889923</td>\n",
       "      <td>Asia</td>\n",
       "      <td>43.828</td>\n",
       "      <td>974.580338</td>\n",
       "    </tr>\n",
       "  </tbody>\n",
       "</table>\n",
       "</div>"
      ],
      "text/plain": [
       "        country  year  population continent  life_exp     gdp_cap\n",
       "0   Afghanistan  1952     8425333      Asia    28.801  779.445314\n",
       "1   Afghanistan  1957     9240934      Asia    30.332  820.853030\n",
       "2   Afghanistan  1962    10267083      Asia    31.997  853.100710\n",
       "3   Afghanistan  1967    11537966      Asia    34.020  836.197138\n",
       "4   Afghanistan  1972    13079460      Asia    36.088  739.981106\n",
       "5   Afghanistan  1977    14880372      Asia    38.438  786.113360\n",
       "6   Afghanistan  1982    12881816      Asia    39.854  978.011439\n",
       "7   Afghanistan  1987    13867957      Asia    40.822  852.395945\n",
       "8   Afghanistan  1992    16317921      Asia    41.674  649.341395\n",
       "9   Afghanistan  1997    22227415      Asia    41.763  635.341351\n",
       "10  Afghanistan  2002    25268405      Asia    42.129  726.734055\n",
       "11  Afghanistan  2007    31889923      Asia    43.828  974.580338"
      ]
     },
     "execution_count": 35,
     "metadata": {},
     "output_type": "execute_result"
    }
   ],
   "source": [
    "# get all rows with values of country are Afghanistan and all cloumns \n",
    "data.loc[ data['country'] == 'Afghanistan'  , : ]"
   ]
  },
  {
   "cell_type": "code",
   "execution_count": 36,
   "id": "49618467",
   "metadata": {},
   "outputs": [
    {
     "data": {
      "text/html": [
       "<div>\n",
       "<style scoped>\n",
       "    .dataframe tbody tr th:only-of-type {\n",
       "        vertical-align: middle;\n",
       "    }\n",
       "\n",
       "    .dataframe tbody tr th {\n",
       "        vertical-align: top;\n",
       "    }\n",
       "\n",
       "    .dataframe thead th {\n",
       "        text-align: right;\n",
       "    }\n",
       "</style>\n",
       "<table border=\"1\" class=\"dataframe\">\n",
       "  <thead>\n",
       "    <tr style=\"text-align: right;\">\n",
       "      <th></th>\n",
       "      <th>country</th>\n",
       "      <th>year</th>\n",
       "      <th>population</th>\n",
       "      <th>continent</th>\n",
       "      <th>life_exp</th>\n",
       "      <th>gdp_cap</th>\n",
       "    </tr>\n",
       "  </thead>\n",
       "  <tbody>\n",
       "  </tbody>\n",
       "</table>\n",
       "</div>"
      ],
      "text/plain": [
       "Empty DataFrame\n",
       "Columns: [country, year, population, continent, life_exp, gdp_cap]\n",
       "Index: []"
      ]
     },
     "execution_count": 36,
     "metadata": {},
     "output_type": "execute_result"
    }
   ],
   "source": [
    "# multiple conditions or cases \n",
    "data.loc[ (data['country'] == 'Afghanistan') & (data['country'] == 'Australia')   ,   ]\n",
    "# No results Match the condition "
   ]
  },
  {
   "cell_type": "code",
   "execution_count": null,
   "id": "afcd77fd",
   "metadata": {},
   "outputs": [],
   "source": []
  },
  {
   "cell_type": "code",
   "execution_count": 37,
   "id": "13f6988d",
   "metadata": {},
   "outputs": [
    {
     "data": {
      "text/html": [
       "<div>\n",
       "<style scoped>\n",
       "    .dataframe tbody tr th:only-of-type {\n",
       "        vertical-align: middle;\n",
       "    }\n",
       "\n",
       "    .dataframe tbody tr th {\n",
       "        vertical-align: top;\n",
       "    }\n",
       "\n",
       "    .dataframe thead th {\n",
       "        text-align: right;\n",
       "    }\n",
       "</style>\n",
       "<table border=\"1\" class=\"dataframe\">\n",
       "  <thead>\n",
       "    <tr style=\"text-align: right;\">\n",
       "      <th></th>\n",
       "      <th>country</th>\n",
       "      <th>year</th>\n",
       "      <th>population</th>\n",
       "      <th>continent</th>\n",
       "      <th>life_exp</th>\n",
       "      <th>gdp_cap</th>\n",
       "    </tr>\n",
       "  </thead>\n",
       "  <tbody>\n",
       "    <tr>\n",
       "      <th>0</th>\n",
       "      <td>Afghanistan</td>\n",
       "      <td>1952</td>\n",
       "      <td>8425333</td>\n",
       "      <td>Asia</td>\n",
       "      <td>28.801</td>\n",
       "      <td>779.445314</td>\n",
       "    </tr>\n",
       "    <tr>\n",
       "      <th>1</th>\n",
       "      <td>Afghanistan</td>\n",
       "      <td>1957</td>\n",
       "      <td>9240934</td>\n",
       "      <td>Asia</td>\n",
       "      <td>30.332</td>\n",
       "      <td>820.853030</td>\n",
       "    </tr>\n",
       "    <tr>\n",
       "      <th>2</th>\n",
       "      <td>Afghanistan</td>\n",
       "      <td>1962</td>\n",
       "      <td>10267083</td>\n",
       "      <td>Asia</td>\n",
       "      <td>31.997</td>\n",
       "      <td>853.100710</td>\n",
       "    </tr>\n",
       "    <tr>\n",
       "      <th>3</th>\n",
       "      <td>Afghanistan</td>\n",
       "      <td>1967</td>\n",
       "      <td>11537966</td>\n",
       "      <td>Asia</td>\n",
       "      <td>34.020</td>\n",
       "      <td>836.197138</td>\n",
       "    </tr>\n",
       "    <tr>\n",
       "      <th>4</th>\n",
       "      <td>Afghanistan</td>\n",
       "      <td>1972</td>\n",
       "      <td>13079460</td>\n",
       "      <td>Asia</td>\n",
       "      <td>36.088</td>\n",
       "      <td>739.981106</td>\n",
       "    </tr>\n",
       "    <tr>\n",
       "      <th>...</th>\n",
       "      <td>...</td>\n",
       "      <td>...</td>\n",
       "      <td>...</td>\n",
       "      <td>...</td>\n",
       "      <td>...</td>\n",
       "      <td>...</td>\n",
       "    </tr>\n",
       "    <tr>\n",
       "      <th>1687</th>\n",
       "      <td>Zambia</td>\n",
       "      <td>1987</td>\n",
       "      <td>7272406</td>\n",
       "      <td>Africa</td>\n",
       "      <td>50.821</td>\n",
       "      <td>1213.315116</td>\n",
       "    </tr>\n",
       "    <tr>\n",
       "      <th>1688</th>\n",
       "      <td>Zambia</td>\n",
       "      <td>1992</td>\n",
       "      <td>8381163</td>\n",
       "      <td>Africa</td>\n",
       "      <td>46.100</td>\n",
       "      <td>1210.884633</td>\n",
       "    </tr>\n",
       "    <tr>\n",
       "      <th>1689</th>\n",
       "      <td>Zambia</td>\n",
       "      <td>1997</td>\n",
       "      <td>9417789</td>\n",
       "      <td>Africa</td>\n",
       "      <td>40.238</td>\n",
       "      <td>1071.353818</td>\n",
       "    </tr>\n",
       "    <tr>\n",
       "      <th>1690</th>\n",
       "      <td>Zambia</td>\n",
       "      <td>2002</td>\n",
       "      <td>10595811</td>\n",
       "      <td>Africa</td>\n",
       "      <td>39.193</td>\n",
       "      <td>1071.613938</td>\n",
       "    </tr>\n",
       "    <tr>\n",
       "      <th>1691</th>\n",
       "      <td>Zambia</td>\n",
       "      <td>2007</td>\n",
       "      <td>11746035</td>\n",
       "      <td>Africa</td>\n",
       "      <td>42.384</td>\n",
       "      <td>1271.211593</td>\n",
       "    </tr>\n",
       "  </tbody>\n",
       "</table>\n",
       "<p>1365 rows × 6 columns</p>\n",
       "</div>"
      ],
      "text/plain": [
       "          country  year  population continent  life_exp      gdp_cap\n",
       "0     Afghanistan  1952     8425333      Asia    28.801   779.445314\n",
       "1     Afghanistan  1957     9240934      Asia    30.332   820.853030\n",
       "2     Afghanistan  1962    10267083      Asia    31.997   853.100710\n",
       "3     Afghanistan  1967    11537966      Asia    34.020   836.197138\n",
       "4     Afghanistan  1972    13079460      Asia    36.088   739.981106\n",
       "...           ...   ...         ...       ...       ...          ...\n",
       "1687       Zambia  1987     7272406    Africa    50.821  1213.315116\n",
       "1688       Zambia  1992     8381163    Africa    46.100  1210.884633\n",
       "1689       Zambia  1997     9417789    Africa    40.238  1071.353818\n",
       "1690       Zambia  2002    10595811    Africa    39.193  1071.613938\n",
       "1691       Zambia  2007    11746035    Africa    42.384  1271.211593\n",
       "\n",
       "[1365 rows x 6 columns]"
      ]
     },
     "execution_count": 37,
     "metadata": {},
     "output_type": "execute_result"
    }
   ],
   "source": [
    "# multiple conditions or cases \n",
    "data.loc[ (data['country'] == 'Afghanistan') | (data['gdp_cap'] > 1000)   ,   ]"
   ]
  },
  {
   "cell_type": "code",
   "execution_count": null,
   "id": "86e69924",
   "metadata": {},
   "outputs": [],
   "source": []
  },
  {
   "cell_type": "markdown",
   "id": "0768148d",
   "metadata": {},
   "source": [
    "## Missing values "
   ]
  },
  {
   "cell_type": "code",
   "execution_count": 64,
   "id": "1f207be4",
   "metadata": {},
   "outputs": [],
   "source": [
    "import pandas as pd \n",
    "import numpy as np "
   ]
  },
  {
   "cell_type": "code",
   "execution_count": 40,
   "id": "37f78a20",
   "metadata": {},
   "outputs": [],
   "source": [
    "# create a data including nan valuse , we can get or genrate nan values using numpy.nan \n",
    "nan_data = np.array([[1,2],[2,3],[np.nan , np.nan] , [5,np.nan]])"
   ]
  },
  {
   "cell_type": "code",
   "execution_count": 41,
   "id": "f0c34a7b",
   "metadata": {},
   "outputs": [],
   "source": [
    "# convert our data to pandas dataframe using pd.DataFrame(name of variable)\n",
    "nan_data = pd.DataFrame(nan_data)"
   ]
  },
  {
   "cell_type": "code",
   "execution_count": 42,
   "id": "cdffcd45",
   "metadata": {},
   "outputs": [
    {
     "data": {
      "text/html": [
       "<div>\n",
       "<style scoped>\n",
       "    .dataframe tbody tr th:only-of-type {\n",
       "        vertical-align: middle;\n",
       "    }\n",
       "\n",
       "    .dataframe tbody tr th {\n",
       "        vertical-align: top;\n",
       "    }\n",
       "\n",
       "    .dataframe thead th {\n",
       "        text-align: right;\n",
       "    }\n",
       "</style>\n",
       "<table border=\"1\" class=\"dataframe\">\n",
       "  <thead>\n",
       "    <tr style=\"text-align: right;\">\n",
       "      <th></th>\n",
       "      <th>0</th>\n",
       "      <th>1</th>\n",
       "    </tr>\n",
       "  </thead>\n",
       "  <tbody>\n",
       "    <tr>\n",
       "      <th>0</th>\n",
       "      <td>1.0</td>\n",
       "      <td>2.0</td>\n",
       "    </tr>\n",
       "    <tr>\n",
       "      <th>1</th>\n",
       "      <td>2.0</td>\n",
       "      <td>3.0</td>\n",
       "    </tr>\n",
       "    <tr>\n",
       "      <th>2</th>\n",
       "      <td>NaN</td>\n",
       "      <td>NaN</td>\n",
       "    </tr>\n",
       "    <tr>\n",
       "      <th>3</th>\n",
       "      <td>5.0</td>\n",
       "      <td>NaN</td>\n",
       "    </tr>\n",
       "  </tbody>\n",
       "</table>\n",
       "</div>"
      ],
      "text/plain": [
       "     0    1\n",
       "0  1.0  2.0\n",
       "1  2.0  3.0\n",
       "2  NaN  NaN\n",
       "3  5.0  NaN"
      ]
     },
     "execution_count": 42,
     "metadata": {},
     "output_type": "execute_result"
    }
   ],
   "source": [
    "nan_data"
   ]
  },
  {
   "cell_type": "code",
   "execution_count": 43,
   "id": "fe9d175d",
   "metadata": {},
   "outputs": [
    {
     "data": {
      "text/plain": [
       "False"
      ]
     },
     "execution_count": 43,
     "metadata": {},
     "output_type": "execute_result"
    }
   ],
   "source": [
    "# i want to check the type or values of np.nan\n",
    "np.nan== True\n",
    "# np.nan not equal to true "
   ]
  },
  {
   "cell_type": "code",
   "execution_count": 44,
   "id": "73218c29",
   "metadata": {},
   "outputs": [
    {
     "data": {
      "text/plain": [
       "False"
      ]
     },
     "execution_count": 44,
     "metadata": {},
     "output_type": "execute_result"
    }
   ],
   "source": [
    "np.nan== False\n",
    "# np.nan not equal to false \n",
    "# it's all about missing or empty value , not include any value "
   ]
  },
  {
   "cell_type": "code",
   "execution_count": 45,
   "id": "d46f503d",
   "metadata": {},
   "outputs": [
    {
     "data": {
      "text/html": [
       "<div>\n",
       "<style scoped>\n",
       "    .dataframe tbody tr th:only-of-type {\n",
       "        vertical-align: middle;\n",
       "    }\n",
       "\n",
       "    .dataframe tbody tr th {\n",
       "        vertical-align: top;\n",
       "    }\n",
       "\n",
       "    .dataframe thead th {\n",
       "        text-align: right;\n",
       "    }\n",
       "</style>\n",
       "<table border=\"1\" class=\"dataframe\">\n",
       "  <thead>\n",
       "    <tr style=\"text-align: right;\">\n",
       "      <th></th>\n",
       "      <th>0</th>\n",
       "      <th>1</th>\n",
       "    </tr>\n",
       "  </thead>\n",
       "  <tbody>\n",
       "    <tr>\n",
       "      <th>0</th>\n",
       "      <td>False</td>\n",
       "      <td>False</td>\n",
       "    </tr>\n",
       "    <tr>\n",
       "      <th>1</th>\n",
       "      <td>False</td>\n",
       "      <td>False</td>\n",
       "    </tr>\n",
       "    <tr>\n",
       "      <th>2</th>\n",
       "      <td>True</td>\n",
       "      <td>True</td>\n",
       "    </tr>\n",
       "    <tr>\n",
       "      <th>3</th>\n",
       "      <td>False</td>\n",
       "      <td>True</td>\n",
       "    </tr>\n",
       "  </tbody>\n",
       "</table>\n",
       "</div>"
      ],
      "text/plain": [
       "       0      1\n",
       "0  False  False\n",
       "1  False  False\n",
       "2   True   True\n",
       "3  False   True"
      ]
     },
     "execution_count": 45,
     "metadata": {},
     "output_type": "execute_result"
    }
   ],
   "source": [
    "# isnull() function is Detect missing values for an array-like object.\n",
    "nan_data.isnull()\n",
    "# you can see that true values in index 2 and 3 are missing values "
   ]
  },
  {
   "cell_type": "code",
   "execution_count": 46,
   "id": "898972d2",
   "metadata": {},
   "outputs": [
    {
     "data": {
      "text/html": [
       "<div>\n",
       "<style scoped>\n",
       "    .dataframe tbody tr th:only-of-type {\n",
       "        vertical-align: middle;\n",
       "    }\n",
       "\n",
       "    .dataframe tbody tr th {\n",
       "        vertical-align: top;\n",
       "    }\n",
       "\n",
       "    .dataframe thead th {\n",
       "        text-align: right;\n",
       "    }\n",
       "</style>\n",
       "<table border=\"1\" class=\"dataframe\">\n",
       "  <thead>\n",
       "    <tr style=\"text-align: right;\">\n",
       "      <th></th>\n",
       "      <th>0</th>\n",
       "      <th>1</th>\n",
       "    </tr>\n",
       "  </thead>\n",
       "  <tbody>\n",
       "    <tr>\n",
       "      <th>0</th>\n",
       "      <td>1.0</td>\n",
       "      <td>2.0</td>\n",
       "    </tr>\n",
       "    <tr>\n",
       "      <th>1</th>\n",
       "      <td>2.0</td>\n",
       "      <td>3.0</td>\n",
       "    </tr>\n",
       "    <tr>\n",
       "      <th>2</th>\n",
       "      <td>NaN</td>\n",
       "      <td>NaN</td>\n",
       "    </tr>\n",
       "    <tr>\n",
       "      <th>3</th>\n",
       "      <td>5.0</td>\n",
       "      <td>NaN</td>\n",
       "    </tr>\n",
       "  </tbody>\n",
       "</table>\n",
       "</div>"
      ],
      "text/plain": [
       "     0    1\n",
       "0  1.0  2.0\n",
       "1  2.0  3.0\n",
       "2  NaN  NaN\n",
       "3  5.0  NaN"
      ]
     },
     "execution_count": 46,
     "metadata": {},
     "output_type": "execute_result"
    }
   ],
   "source": [
    "nan_data.head()"
   ]
  },
  {
   "cell_type": "code",
   "execution_count": 47,
   "id": "41d461db",
   "metadata": {},
   "outputs": [
    {
     "data": {
      "text/plain": [
       "0    2.0\n",
       "1    3.0\n",
       "2    NaN\n",
       "3    NaN\n",
       "Name: 1, dtype: float64"
      ]
     },
     "execution_count": 47,
     "metadata": {},
     "output_type": "execute_result"
    }
   ],
   "source": [
    "# get the second COL \n",
    "nan_data[1]"
   ]
  },
  {
   "cell_type": "code",
   "execution_count": 48,
   "id": "7ede0ea4",
   "metadata": {},
   "outputs": [
    {
     "data": {
      "text/plain": [
       "0    1.0\n",
       "1    2.0\n",
       "2    NaN\n",
       "3    5.0\n",
       "Name: 0, dtype: float64"
      ]
     },
     "execution_count": 48,
     "metadata": {},
     "output_type": "execute_result"
    }
   ],
   "source": [
    "# get the First COL \n",
    "nan_data[0]"
   ]
  },
  {
   "cell_type": "code",
   "execution_count": 73,
   "id": "a61a94e9",
   "metadata": {},
   "outputs": [
    {
     "data": {
      "text/html": [
       "<div>\n",
       "<style scoped>\n",
       "    .dataframe tbody tr th:only-of-type {\n",
       "        vertical-align: middle;\n",
       "    }\n",
       "\n",
       "    .dataframe tbody tr th {\n",
       "        vertical-align: top;\n",
       "    }\n",
       "\n",
       "    .dataframe thead th {\n",
       "        text-align: right;\n",
       "    }\n",
       "</style>\n",
       "<table border=\"1\" class=\"dataframe\">\n",
       "  <thead>\n",
       "    <tr style=\"text-align: right;\">\n",
       "      <th></th>\n",
       "      <th>0</th>\n",
       "      <th>1</th>\n",
       "    </tr>\n",
       "  </thead>\n",
       "  <tbody>\n",
       "    <tr>\n",
       "      <th>0</th>\n",
       "      <td>1.0</td>\n",
       "      <td>2.0</td>\n",
       "    </tr>\n",
       "    <tr>\n",
       "      <th>1</th>\n",
       "      <td>2.0</td>\n",
       "      <td>3.0</td>\n",
       "    </tr>\n",
       "  </tbody>\n",
       "</table>\n",
       "</div>"
      ],
      "text/plain": [
       "     0    1\n",
       "0  1.0  2.0\n",
       "1  2.0  3.0"
      ]
     },
     "execution_count": 73,
     "metadata": {},
     "output_type": "execute_result"
    }
   ],
   "source": [
    "## Drop missing valeus in our dataframe using dropna() function \n",
    "# The dropna() function is used to remove missing values.\n",
    "nan_data.dropna()\n",
    "# Drop the rows where at least one element is missing"
   ]
  },
  {
   "cell_type": "code",
   "execution_count": 49,
   "id": "05479e4c",
   "metadata": {},
   "outputs": [
    {
     "data": {
      "text/plain": [
       "(4, 2)"
      ]
     },
     "execution_count": 49,
     "metadata": {},
     "output_type": "execute_result"
    }
   ],
   "source": [
    "# Number of rows and columns \n",
    "nan_data.shape\n",
    "# 4 rows and 2 columns "
   ]
  },
  {
   "cell_type": "code",
   "execution_count": null,
   "id": "f3f9d5db",
   "metadata": {},
   "outputs": [],
   "source": []
  },
  {
   "cell_type": "markdown",
   "id": "62948e31",
   "metadata": {},
   "source": [
    "## Grouping Data "
   ]
  },
  {
   "cell_type": "code",
   "execution_count": 97,
   "id": "24d63701",
   "metadata": {},
   "outputs": [
    {
     "data": {
      "text/html": [
       "<div>\n",
       "<style scoped>\n",
       "    .dataframe tbody tr th:only-of-type {\n",
       "        vertical-align: middle;\n",
       "    }\n",
       "\n",
       "    .dataframe tbody tr th {\n",
       "        vertical-align: top;\n",
       "    }\n",
       "\n",
       "    .dataframe thead th {\n",
       "        text-align: right;\n",
       "    }\n",
       "</style>\n",
       "<table border=\"1\" class=\"dataframe\">\n",
       "  <thead>\n",
       "    <tr style=\"text-align: right;\">\n",
       "      <th></th>\n",
       "      <th>country</th>\n",
       "      <th>year</th>\n",
       "      <th>population</th>\n",
       "      <th>continent</th>\n",
       "      <th>life_exp</th>\n",
       "      <th>gdp_cap</th>\n",
       "    </tr>\n",
       "  </thead>\n",
       "  <tbody>\n",
       "    <tr>\n",
       "      <th>0</th>\n",
       "      <td>Afghanistan</td>\n",
       "      <td>1952</td>\n",
       "      <td>8425333</td>\n",
       "      <td>Asia</td>\n",
       "      <td>28.801</td>\n",
       "      <td>779.445314</td>\n",
       "    </tr>\n",
       "    <tr>\n",
       "      <th>1</th>\n",
       "      <td>Afghanistan</td>\n",
       "      <td>1957</td>\n",
       "      <td>9240934</td>\n",
       "      <td>Asia</td>\n",
       "      <td>30.332</td>\n",
       "      <td>820.853030</td>\n",
       "    </tr>\n",
       "    <tr>\n",
       "      <th>2</th>\n",
       "      <td>Afghanistan</td>\n",
       "      <td>1962</td>\n",
       "      <td>10267083</td>\n",
       "      <td>Asia</td>\n",
       "      <td>31.997</td>\n",
       "      <td>853.100710</td>\n",
       "    </tr>\n",
       "    <tr>\n",
       "      <th>3</th>\n",
       "      <td>Afghanistan</td>\n",
       "      <td>1967</td>\n",
       "      <td>11537966</td>\n",
       "      <td>Asia</td>\n",
       "      <td>34.020</td>\n",
       "      <td>836.197138</td>\n",
       "    </tr>\n",
       "    <tr>\n",
       "      <th>4</th>\n",
       "      <td>Afghanistan</td>\n",
       "      <td>1972</td>\n",
       "      <td>13079460</td>\n",
       "      <td>Asia</td>\n",
       "      <td>36.088</td>\n",
       "      <td>739.981106</td>\n",
       "    </tr>\n",
       "  </tbody>\n",
       "</table>\n",
       "</div>"
      ],
      "text/plain": [
       "       country  year  population continent  life_exp     gdp_cap\n",
       "0  Afghanistan  1952     8425333      Asia    28.801  779.445314\n",
       "1  Afghanistan  1957     9240934      Asia    30.332  820.853030\n",
       "2  Afghanistan  1962    10267083      Asia    31.997  853.100710\n",
       "3  Afghanistan  1967    11537966      Asia    34.020  836.197138\n",
       "4  Afghanistan  1972    13079460      Asia    36.088  739.981106"
      ]
     },
     "execution_count": 97,
     "metadata": {},
     "output_type": "execute_result"
    }
   ],
   "source": [
    "data.head()"
   ]
  },
  {
   "cell_type": "code",
   "execution_count": 52,
   "id": "f4346894",
   "metadata": {},
   "outputs": [],
   "source": [
    "# groupby() is used for grouping the data according to the categories and apply a function to the categories.\n",
    "# It also helps to aggregate data efficiently."
   ]
  },
  {
   "cell_type": "code",
   "execution_count": 53,
   "id": "904e6590",
   "metadata": {},
   "outputs": [
    {
     "data": {
      "text/plain": [
       "year\n",
       "1952    49.057620\n",
       "1957    51.507401\n",
       "1962    53.609249\n",
       "1967    55.678290\n",
       "1972    57.647386\n",
       "1977    59.570157\n",
       "1982    61.533197\n",
       "1987    63.212613\n",
       "1992    64.160338\n",
       "1997    65.014676\n",
       "2002    65.694923\n",
       "2007    67.007423\n",
       "Name: life_exp, dtype: float64"
      ]
     },
     "execution_count": 53,
     "metadata": {},
     "output_type": "execute_result"
    }
   ],
   "source": [
    "# Grouping the data by year and get the mean of life_exp for every year \n",
    "data.groupby('year')['life_exp'].mean()\n",
    "# the mean for life_exp in year 1952 is 49,057....\n",
    "# the mean for life_exp in year 1957 is 51.5074...."
   ]
  },
  {
   "cell_type": "code",
   "execution_count": 54,
   "id": "74867fce",
   "metadata": {},
   "outputs": [
    {
     "data": {
      "text/plain": [
       "<AxesSubplot:xlabel='year'>"
      ]
     },
     "execution_count": 54,
     "metadata": {},
     "output_type": "execute_result"
    },
    {
     "data": {
      "image/png": "[encoded data removed]",
      "text/plain": [
       "<Figure size 432x288 with 1 Axes>"
      ]
     },
     "metadata": {
      "needs_background": "light"
     },
     "output_type": "display_data"
    }
   ],
   "source": [
    "# using plot function in pandas you can draw a graph that represent your code and your insights from data \n",
    "data.groupby(['year'])['life_exp'].median().plot()"
   ]
  },
  {
   "cell_type": "code",
   "execution_count": 108,
   "id": "02550fe9",
   "metadata": {},
   "outputs": [
    {
     "data": {
      "text/plain": [
       "142"
      ]
     },
     "execution_count": 108,
     "metadata": {},
     "output_type": "execute_result"
    }
   ],
   "source": [
    "# The nunique() method returns the number of unique values for each column. \n",
    "data.country.nunique()"
   ]
  },
  {
   "cell_type": "code",
   "execution_count": 55,
   "id": "5f07a76d",
   "metadata": {},
   "outputs": [
    {
     "data": {
      "text/plain": [
       "array(['Afghanistan', 'Albania', 'Algeria', 'Angola', 'Argentina',\n",
       "       'Australia', 'Austria', 'Bahrain', 'Bangladesh', 'Belgium',\n",
       "       'Benin', 'Bolivia', 'Bosnia and Herzegovina', 'Botswana', 'Brazil',\n",
       "       'Bulgaria', 'Burkina Faso', 'Burundi', 'Cambodia', 'Cameroon',\n",
       "       'Canada', 'Central African Republic', 'Chad', 'Chile', 'China',\n",
       "       'Colombia', 'Comoros', 'Congo, Dem. Rep.', 'Congo, Rep.',\n",
       "       'Costa Rica', \"Cote d'Ivoire\", 'Croatia', 'Cuba', 'Czech Republic',\n",
       "       'Denmark', 'Djibouti', 'Dominican Republic', 'Ecuador', 'Egypt',\n",
       "       'El Salvador', 'Equatorial Guinea', 'Eritrea', 'Ethiopia',\n",
       "       'Finland', 'France', 'Gabon', 'Gambia', 'Germany', 'Ghana',\n",
       "       'Greece', 'Guatemala', 'Guinea', 'Guinea-Bissau', 'Haiti',\n",
       "       'Honduras', 'Hong Kong, China', 'Hungary', 'Iceland', 'India',\n",
       "       'Indonesia', 'Iran', 'Iraq', 'Ireland', 'Israel', 'Italy',\n",
       "       'Jamaica', 'Japan', 'Jordan', 'Kenya', 'Korea, Dem. Rep.',\n",
       "       'Korea, Rep.', 'Kuwait', 'Lebanon', 'Lesotho', 'Liberia', 'Libya',\n",
       "       'Madagascar', 'Malawi', 'Malaysia', 'Mali', 'Mauritania',\n",
       "       'Mauritius', 'Mexico', 'Mongolia', 'Montenegro', 'Morocco',\n",
       "       'Mozambique', 'Myanmar', 'Namibia', 'Nepal', 'Netherlands',\n",
       "       'New Zealand', 'Nicaragua', 'Niger', 'Nigeria', 'Norway', 'Oman',\n",
       "       'Pakistan', 'Panama', 'Paraguay', 'Peru', 'Philippines', 'Poland',\n",
       "       'Portugal', 'Puerto Rico', 'Reunion', 'Romania', 'Rwanda',\n",
       "       'Sao Tome and Principe', 'Saudi Arabia', 'Senegal', 'Serbia',\n",
       "       'Sierra Leone', 'Singapore', 'Slovak Republic', 'Slovenia',\n",
       "       'Somalia', 'South Africa', 'Spain', 'Sri Lanka', 'Sudan',\n",
       "       'Swaziland', 'Sweden', 'Switzerland', 'Syria', 'Taiwan',\n",
       "       'Tanzania', 'Thailand', 'Togo', 'Trinidad and Tobago', 'Tunisia',\n",
       "       'Turkey', 'Uganda', 'United Kingdom', 'United States', 'Uruguay',\n",
       "       'Venezuela', 'Vietnam', 'West Bank and Gaza', 'Yemen, Rep.',\n",
       "       'Zambia', 'Zimbabwe'], dtype=object)"
      ]
     },
     "execution_count": 55,
     "metadata": {},
     "output_type": "execute_result"
    }
   ],
   "source": [
    "# The unique() function is used to get unique values of Series object.\n",
    "data.country.unique()"
   ]
  },
  {
   "cell_type": "code",
   "execution_count": null,
   "id": "2f0172c7",
   "metadata": {},
   "outputs": [],
   "source": []
  },
  {
   "cell_type": "markdown",
   "id": "ee570fe4",
   "metadata": {},
   "source": [
    "## Combining datafeames "
   ]
  },
  {
   "cell_type": "code",
   "execution_count": 65,
   "id": "2a3937bc",
   "metadata": {},
   "outputs": [],
   "source": [
    "# Crate 3 Dataframes !! \n",
    "dataframe_1 = pd.DataFrame()\n",
    "dataframe_2 = pd.DataFrame()\n",
    "dataframe_3 = pd.DataFrame()"
   ]
  },
  {
   "cell_type": "code",
   "execution_count": 66,
   "id": "19534457",
   "metadata": {},
   "outputs": [],
   "source": [
    "# Assigne values for first dataframe \n",
    "dataframe_1['Name'] = ['Mohammad' , 'Ahmed' , 'motafa' , 'Fares']\n",
    "dataframe_1['Age'] = [12,15,60,20]\n",
    "dataframe_1['Gender'] = ['Male' , 'Male' , 'Male' , 'Male']\n",
    "dataframe_1['Location'] = ['Cairo' , 'London' , 'US' , 'KSA']"
   ]
  },
  {
   "cell_type": "code",
   "execution_count": 67,
   "id": "f630ac2d",
   "metadata": {},
   "outputs": [
    {
     "data": {
      "text/html": [
       "<div>\n",
       "<style scoped>\n",
       "    .dataframe tbody tr th:only-of-type {\n",
       "        vertical-align: middle;\n",
       "    }\n",
       "\n",
       "    .dataframe tbody tr th {\n",
       "        vertical-align: top;\n",
       "    }\n",
       "\n",
       "    .dataframe thead th {\n",
       "        text-align: right;\n",
       "    }\n",
       "</style>\n",
       "<table border=\"1\" class=\"dataframe\">\n",
       "  <thead>\n",
       "    <tr style=\"text-align: right;\">\n",
       "      <th></th>\n",
       "      <th>Name</th>\n",
       "      <th>Age</th>\n",
       "      <th>Gender</th>\n",
       "      <th>Location</th>\n",
       "    </tr>\n",
       "  </thead>\n",
       "  <tbody>\n",
       "    <tr>\n",
       "      <th>0</th>\n",
       "      <td>Mohammad</td>\n",
       "      <td>12</td>\n",
       "      <td>Male</td>\n",
       "      <td>Cairo</td>\n",
       "    </tr>\n",
       "    <tr>\n",
       "      <th>1</th>\n",
       "      <td>Ahmed</td>\n",
       "      <td>15</td>\n",
       "      <td>Male</td>\n",
       "      <td>London</td>\n",
       "    </tr>\n",
       "    <tr>\n",
       "      <th>2</th>\n",
       "      <td>motafa</td>\n",
       "      <td>60</td>\n",
       "      <td>Male</td>\n",
       "      <td>US</td>\n",
       "    </tr>\n",
       "    <tr>\n",
       "      <th>3</th>\n",
       "      <td>Fares</td>\n",
       "      <td>20</td>\n",
       "      <td>Male</td>\n",
       "      <td>KSA</td>\n",
       "    </tr>\n",
       "  </tbody>\n",
       "</table>\n",
       "</div>"
      ],
      "text/plain": [
       "       Name  Age Gender Location\n",
       "0  Mohammad   12   Male    Cairo\n",
       "1     Ahmed   15   Male   London\n",
       "2    motafa   60   Male       US\n",
       "3     Fares   20   Male      KSA"
      ]
     },
     "execution_count": 67,
     "metadata": {},
     "output_type": "execute_result"
    }
   ],
   "source": [
    "dataframe_1.head()"
   ]
  },
  {
   "cell_type": "code",
   "execution_count": 68,
   "id": "6b7c6c8f",
   "metadata": {},
   "outputs": [],
   "source": [
    "# Assigne values for Second dataframe \n",
    "dataframe_2['Name'] = ['Mohammad' , 'Ahmed' , 'motafa' , 'Fares']\n",
    "dataframe_2['Age'] = [122,35,5,50]\n",
    "dataframe_2['Gender'] = ['M' , 'F' , 'F' , 'F']\n",
    "dataframe_2['Location'] = ['EG' , 'KAS' , 'ABU' , 'USS']"
   ]
  },
  {
   "cell_type": "code",
   "execution_count": 69,
   "id": "427e134a",
   "metadata": {},
   "outputs": [
    {
     "data": {
      "text/html": [
       "<div>\n",
       "<style scoped>\n",
       "    .dataframe tbody tr th:only-of-type {\n",
       "        vertical-align: middle;\n",
       "    }\n",
       "\n",
       "    .dataframe tbody tr th {\n",
       "        vertical-align: top;\n",
       "    }\n",
       "\n",
       "    .dataframe thead th {\n",
       "        text-align: right;\n",
       "    }\n",
       "</style>\n",
       "<table border=\"1\" class=\"dataframe\">\n",
       "  <thead>\n",
       "    <tr style=\"text-align: right;\">\n",
       "      <th></th>\n",
       "      <th>Name</th>\n",
       "      <th>Age</th>\n",
       "      <th>Gender</th>\n",
       "      <th>Location</th>\n",
       "    </tr>\n",
       "  </thead>\n",
       "  <tbody>\n",
       "    <tr>\n",
       "      <th>0</th>\n",
       "      <td>Mohammad</td>\n",
       "      <td>122</td>\n",
       "      <td>M</td>\n",
       "      <td>EG</td>\n",
       "    </tr>\n",
       "    <tr>\n",
       "      <th>1</th>\n",
       "      <td>Ahmed</td>\n",
       "      <td>35</td>\n",
       "      <td>F</td>\n",
       "      <td>KAS</td>\n",
       "    </tr>\n",
       "    <tr>\n",
       "      <th>2</th>\n",
       "      <td>motafa</td>\n",
       "      <td>5</td>\n",
       "      <td>F</td>\n",
       "      <td>ABU</td>\n",
       "    </tr>\n",
       "    <tr>\n",
       "      <th>3</th>\n",
       "      <td>Fares</td>\n",
       "      <td>50</td>\n",
       "      <td>F</td>\n",
       "      <td>USS</td>\n",
       "    </tr>\n",
       "  </tbody>\n",
       "</table>\n",
       "</div>"
      ],
      "text/plain": [
       "       Name  Age Gender Location\n",
       "0  Mohammad  122      M       EG\n",
       "1     Ahmed   35      F      KAS\n",
       "2    motafa    5      F      ABU\n",
       "3     Fares   50      F      USS"
      ]
     },
     "execution_count": 69,
     "metadata": {},
     "output_type": "execute_result"
    }
   ],
   "source": [
    "dataframe_2.head()"
   ]
  },
  {
   "cell_type": "code",
   "execution_count": 70,
   "id": "458b2c82",
   "metadata": {},
   "outputs": [],
   "source": [
    "# Assigne values for third dataframe \n",
    "dataframe_3['Name'] = ['Salem' , 'Akram' , 'Nada' , 'Fares']\n",
    "dataframe_3['Age'] = [22,35,5,50]\n",
    "dataframe_3['Gender'] = ['M' , 'F' , 'F' , 'F']\n",
    "dataframe_3['Location'] = ['Australia' , 'Jordun' , 'AA' , 'AW']"
   ]
  },
  {
   "cell_type": "code",
   "execution_count": 71,
   "id": "7197ffc7",
   "metadata": {},
   "outputs": [
    {
     "data": {
      "text/html": [
       "<div>\n",
       "<style scoped>\n",
       "    .dataframe tbody tr th:only-of-type {\n",
       "        vertical-align: middle;\n",
       "    }\n",
       "\n",
       "    .dataframe tbody tr th {\n",
       "        vertical-align: top;\n",
       "    }\n",
       "\n",
       "    .dataframe thead th {\n",
       "        text-align: right;\n",
       "    }\n",
       "</style>\n",
       "<table border=\"1\" class=\"dataframe\">\n",
       "  <thead>\n",
       "    <tr style=\"text-align: right;\">\n",
       "      <th></th>\n",
       "      <th>Name</th>\n",
       "      <th>Age</th>\n",
       "      <th>Gender</th>\n",
       "      <th>Location</th>\n",
       "    </tr>\n",
       "  </thead>\n",
       "  <tbody>\n",
       "    <tr>\n",
       "      <th>0</th>\n",
       "      <td>Salem</td>\n",
       "      <td>22</td>\n",
       "      <td>M</td>\n",
       "      <td>Australia</td>\n",
       "    </tr>\n",
       "    <tr>\n",
       "      <th>1</th>\n",
       "      <td>Akram</td>\n",
       "      <td>35</td>\n",
       "      <td>F</td>\n",
       "      <td>Jordun</td>\n",
       "    </tr>\n",
       "    <tr>\n",
       "      <th>2</th>\n",
       "      <td>Nada</td>\n",
       "      <td>5</td>\n",
       "      <td>F</td>\n",
       "      <td>AA</td>\n",
       "    </tr>\n",
       "    <tr>\n",
       "      <th>3</th>\n",
       "      <td>Fares</td>\n",
       "      <td>50</td>\n",
       "      <td>F</td>\n",
       "      <td>AW</td>\n",
       "    </tr>\n",
       "  </tbody>\n",
       "</table>\n",
       "</div>"
      ],
      "text/plain": [
       "    Name  Age Gender   Location\n",
       "0  Salem   22      M  Australia\n",
       "1  Akram   35      F     Jordun\n",
       "2   Nada    5      F         AA\n",
       "3  Fares   50      F         AW"
      ]
     },
     "execution_count": 71,
     "metadata": {},
     "output_type": "execute_result"
    }
   ],
   "source": [
    "dataframe_3"
   ]
  },
  {
   "cell_type": "code",
   "execution_count": 72,
   "id": "144301f8",
   "metadata": {},
   "outputs": [],
   "source": [
    "# Use pandas. concat() to concatenate/merge two or multiple pandas DataFrames across rows or columns. \n",
    "# When you concat() two pandas DataFrames on rows, it creates a new Dataframe containing all rows of two DataFrames\n",
    "# basically it does append one DataFrame with another.\n"
   ]
  },
  {
   "cell_type": "code",
   "execution_count": 77,
   "id": "acf7df0b",
   "metadata": {},
   "outputs": [],
   "source": [
    "# ceate a new dataframe called all_data and use pd.concat to comcatinate or merge all 3 dataframes\n",
    "# i will concat all dataframes in axis = 1 , it meens that The axis to concatenate along cloumns \n",
    "all_data_merged_in_columns = pd.concat([dataframe_1,dataframe_2,dataframe_3] , axis = 1)"
   ]
  },
  {
   "cell_type": "code",
   "execution_count": 78,
   "id": "57088833",
   "metadata": {},
   "outputs": [
    {
     "data": {
      "text/html": [
       "<div>\n",
       "<style scoped>\n",
       "    .dataframe tbody tr th:only-of-type {\n",
       "        vertical-align: middle;\n",
       "    }\n",
       "\n",
       "    .dataframe tbody tr th {\n",
       "        vertical-align: top;\n",
       "    }\n",
       "\n",
       "    .dataframe thead th {\n",
       "        text-align: right;\n",
       "    }\n",
       "</style>\n",
       "<table border=\"1\" class=\"dataframe\">\n",
       "  <thead>\n",
       "    <tr style=\"text-align: right;\">\n",
       "      <th></th>\n",
       "      <th>Name</th>\n",
       "      <th>Age</th>\n",
       "      <th>Gender</th>\n",
       "      <th>Location</th>\n",
       "      <th>Name</th>\n",
       "      <th>Age</th>\n",
       "      <th>Gender</th>\n",
       "      <th>Location</th>\n",
       "      <th>Name</th>\n",
       "      <th>Age</th>\n",
       "      <th>Gender</th>\n",
       "      <th>Location</th>\n",
       "    </tr>\n",
       "  </thead>\n",
       "  <tbody>\n",
       "    <tr>\n",
       "      <th>0</th>\n",
       "      <td>Mohammad</td>\n",
       "      <td>12</td>\n",
       "      <td>Male</td>\n",
       "      <td>Cairo</td>\n",
       "      <td>Mohammad</td>\n",
       "      <td>122</td>\n",
       "      <td>M</td>\n",
       "      <td>EG</td>\n",
       "      <td>Salem</td>\n",
       "      <td>22</td>\n",
       "      <td>M</td>\n",
       "      <td>Australia</td>\n",
       "    </tr>\n",
       "    <tr>\n",
       "      <th>1</th>\n",
       "      <td>Ahmed</td>\n",
       "      <td>15</td>\n",
       "      <td>Male</td>\n",
       "      <td>London</td>\n",
       "      <td>Ahmed</td>\n",
       "      <td>35</td>\n",
       "      <td>F</td>\n",
       "      <td>KAS</td>\n",
       "      <td>Akram</td>\n",
       "      <td>35</td>\n",
       "      <td>F</td>\n",
       "      <td>Jordun</td>\n",
       "    </tr>\n",
       "    <tr>\n",
       "      <th>2</th>\n",
       "      <td>motafa</td>\n",
       "      <td>60</td>\n",
       "      <td>Male</td>\n",
       "      <td>US</td>\n",
       "      <td>motafa</td>\n",
       "      <td>5</td>\n",
       "      <td>F</td>\n",
       "      <td>ABU</td>\n",
       "      <td>Nada</td>\n",
       "      <td>5</td>\n",
       "      <td>F</td>\n",
       "      <td>AA</td>\n",
       "    </tr>\n",
       "    <tr>\n",
       "      <th>3</th>\n",
       "      <td>Fares</td>\n",
       "      <td>20</td>\n",
       "      <td>Male</td>\n",
       "      <td>KSA</td>\n",
       "      <td>Fares</td>\n",
       "      <td>50</td>\n",
       "      <td>F</td>\n",
       "      <td>USS</td>\n",
       "      <td>Fares</td>\n",
       "      <td>50</td>\n",
       "      <td>F</td>\n",
       "      <td>AW</td>\n",
       "    </tr>\n",
       "  </tbody>\n",
       "</table>\n",
       "</div>"
      ],
      "text/plain": [
       "       Name  Age Gender Location      Name  Age Gender Location   Name  Age  \\\n",
       "0  Mohammad   12   Male    Cairo  Mohammad  122      M       EG  Salem   22   \n",
       "1     Ahmed   15   Male   London     Ahmed   35      F      KAS  Akram   35   \n",
       "2    motafa   60   Male       US    motafa    5      F      ABU   Nada    5   \n",
       "3     Fares   20   Male      KSA     Fares   50      F      USS  Fares   50   \n",
       "\n",
       "  Gender   Location  \n",
       "0      M  Australia  \n",
       "1      F     Jordun  \n",
       "2      F         AA  \n",
       "3      F         AW  "
      ]
     },
     "execution_count": 78,
     "metadata": {},
     "output_type": "execute_result"
    }
   ],
   "source": [
    "all_data_merged_in_columns"
   ]
  },
  {
   "cell_type": "code",
   "execution_count": 79,
   "id": "ea7145d2",
   "metadata": {},
   "outputs": [],
   "source": [
    "# Now let's concat all dataframes in axis = 0 , it meens that The axis to concatenate along rows \n",
    "all_data_merged_in_rows = pd.concat([dataframe_1,dataframe_2,dataframe_3] , axis = 0)"
   ]
  },
  {
   "cell_type": "code",
   "execution_count": 80,
   "id": "e045f38d",
   "metadata": {},
   "outputs": [
    {
     "data": {
      "text/html": [
       "<div>\n",
       "<style scoped>\n",
       "    .dataframe tbody tr th:only-of-type {\n",
       "        vertical-align: middle;\n",
       "    }\n",
       "\n",
       "    .dataframe tbody tr th {\n",
       "        vertical-align: top;\n",
       "    }\n",
       "\n",
       "    .dataframe thead th {\n",
       "        text-align: right;\n",
       "    }\n",
       "</style>\n",
       "<table border=\"1\" class=\"dataframe\">\n",
       "  <thead>\n",
       "    <tr style=\"text-align: right;\">\n",
       "      <th></th>\n",
       "      <th>Name</th>\n",
       "      <th>Age</th>\n",
       "      <th>Gender</th>\n",
       "      <th>Location</th>\n",
       "    </tr>\n",
       "  </thead>\n",
       "  <tbody>\n",
       "    <tr>\n",
       "      <th>0</th>\n",
       "      <td>Mohammad</td>\n",
       "      <td>12</td>\n",
       "      <td>Male</td>\n",
       "      <td>Cairo</td>\n",
       "    </tr>\n",
       "    <tr>\n",
       "      <th>1</th>\n",
       "      <td>Ahmed</td>\n",
       "      <td>15</td>\n",
       "      <td>Male</td>\n",
       "      <td>London</td>\n",
       "    </tr>\n",
       "    <tr>\n",
       "      <th>2</th>\n",
       "      <td>motafa</td>\n",
       "      <td>60</td>\n",
       "      <td>Male</td>\n",
       "      <td>US</td>\n",
       "    </tr>\n",
       "    <tr>\n",
       "      <th>3</th>\n",
       "      <td>Fares</td>\n",
       "      <td>20</td>\n",
       "      <td>Male</td>\n",
       "      <td>KSA</td>\n",
       "    </tr>\n",
       "    <tr>\n",
       "      <th>0</th>\n",
       "      <td>Mohammad</td>\n",
       "      <td>122</td>\n",
       "      <td>M</td>\n",
       "      <td>EG</td>\n",
       "    </tr>\n",
       "    <tr>\n",
       "      <th>1</th>\n",
       "      <td>Ahmed</td>\n",
       "      <td>35</td>\n",
       "      <td>F</td>\n",
       "      <td>KAS</td>\n",
       "    </tr>\n",
       "    <tr>\n",
       "      <th>2</th>\n",
       "      <td>motafa</td>\n",
       "      <td>5</td>\n",
       "      <td>F</td>\n",
       "      <td>ABU</td>\n",
       "    </tr>\n",
       "    <tr>\n",
       "      <th>3</th>\n",
       "      <td>Fares</td>\n",
       "      <td>50</td>\n",
       "      <td>F</td>\n",
       "      <td>USS</td>\n",
       "    </tr>\n",
       "    <tr>\n",
       "      <th>0</th>\n",
       "      <td>Salem</td>\n",
       "      <td>22</td>\n",
       "      <td>M</td>\n",
       "      <td>Australia</td>\n",
       "    </tr>\n",
       "    <tr>\n",
       "      <th>1</th>\n",
       "      <td>Akram</td>\n",
       "      <td>35</td>\n",
       "      <td>F</td>\n",
       "      <td>Jordun</td>\n",
       "    </tr>\n",
       "    <tr>\n",
       "      <th>2</th>\n",
       "      <td>Nada</td>\n",
       "      <td>5</td>\n",
       "      <td>F</td>\n",
       "      <td>AA</td>\n",
       "    </tr>\n",
       "    <tr>\n",
       "      <th>3</th>\n",
       "      <td>Fares</td>\n",
       "      <td>50</td>\n",
       "      <td>F</td>\n",
       "      <td>AW</td>\n",
       "    </tr>\n",
       "  </tbody>\n",
       "</table>\n",
       "</div>"
      ],
      "text/plain": [
       "       Name  Age Gender   Location\n",
       "0  Mohammad   12   Male      Cairo\n",
       "1     Ahmed   15   Male     London\n",
       "2    motafa   60   Male         US\n",
       "3     Fares   20   Male        KSA\n",
       "0  Mohammad  122      M         EG\n",
       "1     Ahmed   35      F        KAS\n",
       "2    motafa    5      F        ABU\n",
       "3     Fares   50      F        USS\n",
       "0     Salem   22      M  Australia\n",
       "1     Akram   35      F     Jordun\n",
       "2      Nada    5      F         AA\n",
       "3     Fares   50      F         AW"
      ]
     },
     "execution_count": 80,
     "metadata": {},
     "output_type": "execute_result"
    }
   ],
   "source": [
    "all_data_merged_in_rows"
   ]
  },
  {
   "cell_type": "code",
   "execution_count": null,
   "id": "42cfadb6",
   "metadata": {},
   "outputs": [],
   "source": []
  },
  {
   "cell_type": "markdown",
   "id": "0b6c35ca",
   "metadata": {},
   "source": [
    "## Working with Dates"
   ]
  },
  {
   "cell_type": "code",
   "execution_count": 81,
   "id": "6a85f452",
   "metadata": {},
   "outputs": [],
   "source": [
    "import numpy as np\n",
    "import pandas as pd\n",
    "import matplotlib.pyplot as plt\n",
    "import seaborn as sns"
   ]
  },
  {
   "cell_type": "code",
   "execution_count": 82,
   "id": "ddc8803e",
   "metadata": {},
   "outputs": [],
   "source": [
    "person = pd.DataFrame({'Name':['Asif' , 'Basit' , 'John', 'Hary'],\n",
    "                    'DOB': ['3/20/1960', '3/19/1981', '9/12/1999' , '7/12/1967'],\n",
    "                    'EmpID': ['E453', 'E983', 'E675','E120']})\n"
   ]
  },
  {
   "cell_type": "code",
   "execution_count": 5,
   "id": "e5af8629",
   "metadata": {},
   "outputs": [
    {
     "data": {
      "text/html": [
       "<div>\n",
       "<style scoped>\n",
       "    .dataframe tbody tr th:only-of-type {\n",
       "        vertical-align: middle;\n",
       "    }\n",
       "\n",
       "    .dataframe tbody tr th {\n",
       "        vertical-align: top;\n",
       "    }\n",
       "\n",
       "    .dataframe thead th {\n",
       "        text-align: right;\n",
       "    }\n",
       "</style>\n",
       "<table border=\"1\" class=\"dataframe\">\n",
       "  <thead>\n",
       "    <tr style=\"text-align: right;\">\n",
       "      <th></th>\n",
       "      <th>Name</th>\n",
       "      <th>DOB</th>\n",
       "      <th>EmpID</th>\n",
       "    </tr>\n",
       "  </thead>\n",
       "  <tbody>\n",
       "    <tr>\n",
       "      <th>0</th>\n",
       "      <td>Asif</td>\n",
       "      <td>3/20/1960</td>\n",
       "      <td>E453</td>\n",
       "    </tr>\n",
       "    <tr>\n",
       "      <th>1</th>\n",
       "      <td>Basit</td>\n",
       "      <td>3/19/1981</td>\n",
       "      <td>E983</td>\n",
       "    </tr>\n",
       "    <tr>\n",
       "      <th>2</th>\n",
       "      <td>John</td>\n",
       "      <td>9/12/1999</td>\n",
       "      <td>E675</td>\n",
       "    </tr>\n",
       "    <tr>\n",
       "      <th>3</th>\n",
       "      <td>Hary</td>\n",
       "      <td>7/12/1967</td>\n",
       "      <td>E120</td>\n",
       "    </tr>\n",
       "  </tbody>\n",
       "</table>\n",
       "</div>"
      ],
      "text/plain": [
       "    Name        DOB EmpID\n",
       "0   Asif  3/20/1960  E453\n",
       "1  Basit  3/19/1981  E983\n",
       "2   John  9/12/1999  E675\n",
       "3   Hary  7/12/1967  E120"
      ]
     },
     "execution_count": 5,
     "metadata": {},
     "output_type": "execute_result"
    }
   ],
   "source": [
    "person"
   ]
  },
  {
   "cell_type": "code",
   "execution_count": 6,
   "id": "9fd549af",
   "metadata": {},
   "outputs": [
    {
     "data": {
      "text/plain": [
       "Name     object\n",
       "DOB      object\n",
       "EmpID    object\n",
       "dtype: object"
      ]
     },
     "execution_count": 6,
     "metadata": {},
     "output_type": "execute_result"
    }
   ],
   "source": [
    "person.dtypes\n",
    "# data types are string not date !!! "
   ]
  },
  {
   "cell_type": "code",
   "execution_count": 83,
   "id": "be785458",
   "metadata": {},
   "outputs": [],
   "source": [
    "# let's convert DOB col from string or object to datetime using pd.to_datetime\n",
    "person['DOB']=pd.to_datetime(person['DOB'])"
   ]
  },
  {
   "cell_type": "code",
   "execution_count": 88,
   "id": "8a7e2aa3",
   "metadata": {},
   "outputs": [
    {
     "data": {
      "text/html": [
       "<div>\n",
       "<style scoped>\n",
       "    .dataframe tbody tr th:only-of-type {\n",
       "        vertical-align: middle;\n",
       "    }\n",
       "\n",
       "    .dataframe tbody tr th {\n",
       "        vertical-align: top;\n",
       "    }\n",
       "\n",
       "    .dataframe thead th {\n",
       "        text-align: right;\n",
       "    }\n",
       "</style>\n",
       "<table border=\"1\" class=\"dataframe\">\n",
       "  <thead>\n",
       "    <tr style=\"text-align: right;\">\n",
       "      <th></th>\n",
       "      <th>Name</th>\n",
       "      <th>DOB</th>\n",
       "      <th>EmpID</th>\n",
       "    </tr>\n",
       "  </thead>\n",
       "  <tbody>\n",
       "    <tr>\n",
       "      <th>0</th>\n",
       "      <td>Asif</td>\n",
       "      <td>1960-03-20</td>\n",
       "      <td>E453</td>\n",
       "    </tr>\n",
       "    <tr>\n",
       "      <th>1</th>\n",
       "      <td>Basit</td>\n",
       "      <td>1981-03-19</td>\n",
       "      <td>E983</td>\n",
       "    </tr>\n",
       "    <tr>\n",
       "      <th>2</th>\n",
       "      <td>John</td>\n",
       "      <td>1999-09-12</td>\n",
       "      <td>E675</td>\n",
       "    </tr>\n",
       "    <tr>\n",
       "      <th>3</th>\n",
       "      <td>Hary</td>\n",
       "      <td>1967-07-12</td>\n",
       "      <td>E120</td>\n",
       "    </tr>\n",
       "  </tbody>\n",
       "</table>\n",
       "</div>"
      ],
      "text/plain": [
       "    Name        DOB EmpID\n",
       "0   Asif 1960-03-20  E453\n",
       "1  Basit 1981-03-19  E983\n",
       "2   John 1999-09-12  E675\n",
       "3   Hary 1967-07-12  E120"
      ]
     },
     "execution_count": 88,
     "metadata": {},
     "output_type": "execute_result"
    }
   ],
   "source": [
    "person"
   ]
  },
  {
   "cell_type": "code",
   "execution_count": 89,
   "id": "d667216c",
   "metadata": {},
   "outputs": [
    {
     "data": {
      "text/plain": [
       "Name             object\n",
       "DOB      datetime64[ns]\n",
       "EmpID            object\n",
       "dtype: object"
      ]
     },
     "execution_count": 89,
     "metadata": {},
     "output_type": "execute_result"
    }
   ],
   "source": [
    "person.dtypes\n",
    "# now DOB col is a datetime ! "
   ]
  },
  {
   "cell_type": "code",
   "execution_count": 90,
   "id": "332777e8",
   "metadata": {},
   "outputs": [],
   "source": [
    "# Extract Month , Day , Year , 'Day of Week' and 'Week of Year' from the Date field"
   ]
  },
  {
   "cell_type": "code",
   "execution_count": 91,
   "id": "2d953a42",
   "metadata": {},
   "outputs": [],
   "source": [
    "# create a column in person dataframe that include the month from DOB col \n",
    "# It's done using dt.month\n",
    "person['Month'] = person.DOB.dt.month"
   ]
  },
  {
   "cell_type": "code",
   "execution_count": 92,
   "id": "3f8b0755",
   "metadata": {},
   "outputs": [],
   "source": [
    "# create a column in person dataframe that include the Day from DOB col \n",
    "# It's done using dt.day\n",
    "person['Day'] = person.DOB.dt.day"
   ]
  },
  {
   "cell_type": "code",
   "execution_count": 93,
   "id": "71541c20",
   "metadata": {},
   "outputs": [],
   "source": [
    "# create a column in person dataframe that include the year from DOB col \n",
    "# It's done using dt.year\n",
    "person['Year'] = person.DOB.dt.year"
   ]
  },
  {
   "cell_type": "code",
   "execution_count": 94,
   "id": "e38c0fcf",
   "metadata": {},
   "outputs": [],
   "source": [
    "# create a column in person dataframe that include the Week Number from DOB col \n",
    "# It's done using dt.isocalendar().week\n",
    "person['Week Number'] =person.DOB.dt.isocalendar().week"
   ]
  },
  {
   "cell_type": "code",
   "execution_count": 95,
   "id": "5eb3b67d",
   "metadata": {},
   "outputs": [],
   "source": [
    "# create a column in person dataframe that include the Day Of Week from DOB col \n",
    "# It's done using dt.dayofweek\n",
    "person['Day Of Week'] = person.DOB.dt.dayofweek"
   ]
  },
  {
   "cell_type": "code",
   "execution_count": 96,
   "id": "90790669",
   "metadata": {},
   "outputs": [],
   "source": [
    "# create a column in person dataframe that include the Day Name from DOB col \n",
    "# It's done using dt.day_name()\n",
    "person['Day Name']=pd.to_datetime(person['DOB']).dt.day_name()"
   ]
  },
  {
   "cell_type": "code",
   "execution_count": 97,
   "id": "57d2f11c",
   "metadata": {},
   "outputs": [],
   "source": [
    "# create a column in person dataframe that include the Month Name from DOB col \n",
    "# It's done using dt.month_name()\n",
    "person['Month Name']=pd.to_datetime(person['DOB']).dt.month_name()"
   ]
  },
  {
   "cell_type": "code",
   "execution_count": 98,
   "id": "fb400393",
   "metadata": {},
   "outputs": [
    {
     "data": {
      "text/html": [
       "<div>\n",
       "<style scoped>\n",
       "    .dataframe tbody tr th:only-of-type {\n",
       "        vertical-align: middle;\n",
       "    }\n",
       "\n",
       "    .dataframe tbody tr th {\n",
       "        vertical-align: top;\n",
       "    }\n",
       "\n",
       "    .dataframe thead th {\n",
       "        text-align: right;\n",
       "    }\n",
       "</style>\n",
       "<table border=\"1\" class=\"dataframe\">\n",
       "  <thead>\n",
       "    <tr style=\"text-align: right;\">\n",
       "      <th></th>\n",
       "      <th>Name</th>\n",
       "      <th>DOB</th>\n",
       "      <th>EmpID</th>\n",
       "      <th>Month</th>\n",
       "      <th>Day</th>\n",
       "      <th>Year</th>\n",
       "      <th>Week Number</th>\n",
       "      <th>Day Of Week</th>\n",
       "      <th>Day Name</th>\n",
       "      <th>Month Name</th>\n",
       "    </tr>\n",
       "  </thead>\n",
       "  <tbody>\n",
       "    <tr>\n",
       "      <th>0</th>\n",
       "      <td>Asif</td>\n",
       "      <td>1960-03-20</td>\n",
       "      <td>E453</td>\n",
       "      <td>3</td>\n",
       "      <td>20</td>\n",
       "      <td>1960</td>\n",
       "      <td>11</td>\n",
       "      <td>6</td>\n",
       "      <td>Sunday</td>\n",
       "      <td>March</td>\n",
       "    </tr>\n",
       "    <tr>\n",
       "      <th>1</th>\n",
       "      <td>Basit</td>\n",
       "      <td>1981-03-19</td>\n",
       "      <td>E983</td>\n",
       "      <td>3</td>\n",
       "      <td>19</td>\n",
       "      <td>1981</td>\n",
       "      <td>12</td>\n",
       "      <td>3</td>\n",
       "      <td>Thursday</td>\n",
       "      <td>March</td>\n",
       "    </tr>\n",
       "    <tr>\n",
       "      <th>2</th>\n",
       "      <td>John</td>\n",
       "      <td>1999-09-12</td>\n",
       "      <td>E675</td>\n",
       "      <td>9</td>\n",
       "      <td>12</td>\n",
       "      <td>1999</td>\n",
       "      <td>36</td>\n",
       "      <td>6</td>\n",
       "      <td>Sunday</td>\n",
       "      <td>September</td>\n",
       "    </tr>\n",
       "    <tr>\n",
       "      <th>3</th>\n",
       "      <td>Hary</td>\n",
       "      <td>1967-07-12</td>\n",
       "      <td>E120</td>\n",
       "      <td>7</td>\n",
       "      <td>12</td>\n",
       "      <td>1967</td>\n",
       "      <td>28</td>\n",
       "      <td>2</td>\n",
       "      <td>Wednesday</td>\n",
       "      <td>July</td>\n",
       "    </tr>\n",
       "  </tbody>\n",
       "</table>\n",
       "</div>"
      ],
      "text/plain": [
       "    Name        DOB EmpID  Month  Day  Year  Week Number  Day Of Week  \\\n",
       "0   Asif 1960-03-20  E453      3   20  1960           11            6   \n",
       "1  Basit 1981-03-19  E983      3   19  1981           12            3   \n",
       "2   John 1999-09-12  E675      9   12  1999           36            6   \n",
       "3   Hary 1967-07-12  E120      7   12  1967           28            2   \n",
       "\n",
       "    Day Name Month Name  \n",
       "0     Sunday      March  \n",
       "1   Thursday      March  \n",
       "2     Sunday  September  \n",
       "3  Wednesday       July  "
      ]
     },
     "execution_count": 98,
     "metadata": {},
     "output_type": "execute_result"
    }
   ],
   "source": [
    "# let's print out the person dataset\n",
    "person"
   ]
  },
  {
   "cell_type": "code",
   "execution_count": 100,
   "id": "c07b174a",
   "metadata": {},
   "outputs": [
    {
     "data": {
      "text/plain": [
       "Name                   object\n",
       "DOB            datetime64[ns]\n",
       "EmpID                  object\n",
       "Month                   int64\n",
       "Day                     int64\n",
       "Year                    int64\n",
       "Week Number            UInt32\n",
       "Day Of Week             int64\n",
       "Day Name               object\n",
       "Month Name             object\n",
       "dtype: object"
      ]
     },
     "execution_count": 100,
     "metadata": {},
     "output_type": "execute_result"
    }
   ],
   "source": [
    "# check Data Types \n",
    "person.dtypes"
   ]
  },
  {
   "cell_type": "code",
   "execution_count": 12,
   "id": "5bd23459",
   "metadata": {},
   "outputs": [],
   "source": [
    "# Changing Datetime format to '%d/%m/%Y' using strftime()\n",
    "person['DOB']=pd.to_datetime(person['DOB']).dt.strftime('%d/%m/%Y') # Note : This will change the datatype back to object\n",
    "# it will be day then month then year insted of year then month then day \n",
    "# 1999-09-12 to 19/03/1981 "
   ]
  },
  {
   "cell_type": "code",
   "execution_count": 13,
   "id": "efb0fbd9",
   "metadata": {},
   "outputs": [
    {
     "data": {
      "text/html": [
       "<div>\n",
       "<style scoped>\n",
       "    .dataframe tbody tr th:only-of-type {\n",
       "        vertical-align: middle;\n",
       "    }\n",
       "\n",
       "    .dataframe tbody tr th {\n",
       "        vertical-align: top;\n",
       "    }\n",
       "\n",
       "    .dataframe thead th {\n",
       "        text-align: right;\n",
       "    }\n",
       "</style>\n",
       "<table border=\"1\" class=\"dataframe\">\n",
       "  <thead>\n",
       "    <tr style=\"text-align: right;\">\n",
       "      <th></th>\n",
       "      <th>Name</th>\n",
       "      <th>DOB</th>\n",
       "      <th>EmpID</th>\n",
       "      <th>Month</th>\n",
       "      <th>Day</th>\n",
       "      <th>Year</th>\n",
       "      <th>Week Number</th>\n",
       "      <th>Day Of Week</th>\n",
       "      <th>Day Name</th>\n",
       "      <th>Month Name</th>\n",
       "    </tr>\n",
       "  </thead>\n",
       "  <tbody>\n",
       "    <tr>\n",
       "      <th>0</th>\n",
       "      <td>Asif</td>\n",
       "      <td>20/03/1960</td>\n",
       "      <td>E453</td>\n",
       "      <td>3</td>\n",
       "      <td>20</td>\n",
       "      <td>1960</td>\n",
       "      <td>11</td>\n",
       "      <td>6</td>\n",
       "      <td>Sunday</td>\n",
       "      <td>March</td>\n",
       "    </tr>\n",
       "    <tr>\n",
       "      <th>1</th>\n",
       "      <td>Basit</td>\n",
       "      <td>19/03/1981</td>\n",
       "      <td>E983</td>\n",
       "      <td>3</td>\n",
       "      <td>19</td>\n",
       "      <td>1981</td>\n",
       "      <td>12</td>\n",
       "      <td>3</td>\n",
       "      <td>Thursday</td>\n",
       "      <td>March</td>\n",
       "    </tr>\n",
       "    <tr>\n",
       "      <th>2</th>\n",
       "      <td>John</td>\n",
       "      <td>12/09/1999</td>\n",
       "      <td>E675</td>\n",
       "      <td>9</td>\n",
       "      <td>12</td>\n",
       "      <td>1999</td>\n",
       "      <td>36</td>\n",
       "      <td>6</td>\n",
       "      <td>Sunday</td>\n",
       "      <td>September</td>\n",
       "    </tr>\n",
       "    <tr>\n",
       "      <th>3</th>\n",
       "      <td>Hary</td>\n",
       "      <td>12/07/1967</td>\n",
       "      <td>E120</td>\n",
       "      <td>7</td>\n",
       "      <td>12</td>\n",
       "      <td>1967</td>\n",
       "      <td>28</td>\n",
       "      <td>2</td>\n",
       "      <td>Wednesday</td>\n",
       "      <td>July</td>\n",
       "    </tr>\n",
       "  </tbody>\n",
       "</table>\n",
       "</div>"
      ],
      "text/plain": [
       "    Name         DOB EmpID  Month  Day  Year  Week Number  Day Of Week  \\\n",
       "0   Asif  20/03/1960  E453      3   20  1960           11            6   \n",
       "1  Basit  19/03/1981  E983      3   19  1981           12            3   \n",
       "2   John  12/09/1999  E675      9   12  1999           36            6   \n",
       "3   Hary  12/07/1967  E120      7   12  1967           28            2   \n",
       "\n",
       "    Day Name Month Name  \n",
       "0     Sunday      March  \n",
       "1   Thursday      March  \n",
       "2     Sunday  September  \n",
       "3  Wednesday       July  "
      ]
     },
     "execution_count": 13,
     "metadata": {},
     "output_type": "execute_result"
    }
   ],
   "source": [
    "person"
   ]
  },
  {
   "cell_type": "code",
   "execution_count": 14,
   "id": "bb2c0ed3",
   "metadata": {},
   "outputs": [
    {
     "data": {
      "text/plain": [
       "Name           object\n",
       "DOB            object\n",
       "EmpID          object\n",
       "Month           int64\n",
       "Day             int64\n",
       "Year            int64\n",
       "Week Number    UInt32\n",
       "Day Of Week     int64\n",
       "Day Name       object\n",
       "Month Name     object\n",
       "dtype: object"
      ]
     },
     "execution_count": 14,
     "metadata": {},
     "output_type": "execute_result"
    }
   ],
   "source": [
    "person.dtypes"
   ]
  },
  {
   "cell_type": "code",
   "execution_count": null,
   "id": "c7c105cf",
   "metadata": {},
   "outputs": [],
   "source": []
  },
  {
   "cell_type": "code",
   "execution_count": 101,
   "id": "d463350a",
   "metadata": {},
   "outputs": [
    {
     "data": {
      "text/html": [
       "<div>\n",
       "<style scoped>\n",
       "    .dataframe tbody tr th:only-of-type {\n",
       "        vertical-align: middle;\n",
       "    }\n",
       "\n",
       "    .dataframe tbody tr th {\n",
       "        vertical-align: top;\n",
       "    }\n",
       "\n",
       "    .dataframe thead th {\n",
       "        text-align: right;\n",
       "    }\n",
       "</style>\n",
       "<table border=\"1\" class=\"dataframe\">\n",
       "  <thead>\n",
       "    <tr style=\"text-align: right;\">\n",
       "      <th></th>\n",
       "      <th>Name</th>\n",
       "      <th>DOB</th>\n",
       "      <th>EmpID</th>\n",
       "      <th>Month</th>\n",
       "      <th>Day</th>\n",
       "      <th>Year</th>\n",
       "      <th>Week Number</th>\n",
       "      <th>Day Of Week</th>\n",
       "      <th>Day Name</th>\n",
       "      <th>Month Name</th>\n",
       "    </tr>\n",
       "  </thead>\n",
       "  <tbody>\n",
       "    <tr>\n",
       "      <th>1</th>\n",
       "      <td>Basit</td>\n",
       "      <td>1981-03-19</td>\n",
       "      <td>E983</td>\n",
       "      <td>3</td>\n",
       "      <td>19</td>\n",
       "      <td>1981</td>\n",
       "      <td>12</td>\n",
       "      <td>3</td>\n",
       "      <td>Thursday</td>\n",
       "      <td>March</td>\n",
       "    </tr>\n",
       "    <tr>\n",
       "      <th>2</th>\n",
       "      <td>John</td>\n",
       "      <td>1999-09-12</td>\n",
       "      <td>E675</td>\n",
       "      <td>9</td>\n",
       "      <td>12</td>\n",
       "      <td>1999</td>\n",
       "      <td>36</td>\n",
       "      <td>6</td>\n",
       "      <td>Sunday</td>\n",
       "      <td>September</td>\n",
       "    </tr>\n",
       "  </tbody>\n",
       "</table>\n",
       "</div>"
      ],
      "text/plain": [
       "    Name        DOB EmpID  Month  Day  Year  Week Number  Day Of Week  \\\n",
       "1  Basit 1981-03-19  E983      3   19  1981           12            3   \n",
       "2   John 1999-09-12  E675      9   12  1999           36            6   \n",
       "\n",
       "   Day Name Month Name  \n",
       "1  Thursday      March  \n",
       "2    Sunday  September  "
      ]
     },
     "execution_count": 101,
     "metadata": {},
     "output_type": "execute_result"
    }
   ],
   "source": [
    "# Find employees who are born after 12-20-1980\n",
    "from datetime import date\n",
    "person[pd.to_datetime(person['DOB']) > pd.Timestamp(date(1980,12,20))]"
   ]
  },
  {
   "cell_type": "code",
   "execution_count": 102,
   "id": "9ab528e9",
   "metadata": {},
   "outputs": [
    {
     "data": {
      "text/html": [
       "<div>\n",
       "<style scoped>\n",
       "    .dataframe tbody tr th:only-of-type {\n",
       "        vertical-align: middle;\n",
       "    }\n",
       "\n",
       "    .dataframe tbody tr th {\n",
       "        vertical-align: top;\n",
       "    }\n",
       "\n",
       "    .dataframe thead th {\n",
       "        text-align: right;\n",
       "    }\n",
       "</style>\n",
       "<table border=\"1\" class=\"dataframe\">\n",
       "  <thead>\n",
       "    <tr style=\"text-align: right;\">\n",
       "      <th></th>\n",
       "      <th>Name</th>\n",
       "      <th>DOB</th>\n",
       "      <th>EmpID</th>\n",
       "      <th>Month</th>\n",
       "      <th>Day</th>\n",
       "      <th>Year</th>\n",
       "      <th>Week Number</th>\n",
       "      <th>Day Of Week</th>\n",
       "      <th>Day Name</th>\n",
       "      <th>Month Name</th>\n",
       "    </tr>\n",
       "  </thead>\n",
       "  <tbody>\n",
       "    <tr>\n",
       "      <th>1</th>\n",
       "      <td>Basit</td>\n",
       "      <td>1981-03-19</td>\n",
       "      <td>E983</td>\n",
       "      <td>3</td>\n",
       "      <td>19</td>\n",
       "      <td>1981</td>\n",
       "      <td>12</td>\n",
       "      <td>3</td>\n",
       "      <td>Thursday</td>\n",
       "      <td>March</td>\n",
       "    </tr>\n",
       "    <tr>\n",
       "      <th>2</th>\n",
       "      <td>John</td>\n",
       "      <td>1999-09-12</td>\n",
       "      <td>E675</td>\n",
       "      <td>9</td>\n",
       "      <td>12</td>\n",
       "      <td>1999</td>\n",
       "      <td>36</td>\n",
       "      <td>6</td>\n",
       "      <td>Sunday</td>\n",
       "      <td>September</td>\n",
       "    </tr>\n",
       "  </tbody>\n",
       "</table>\n",
       "</div>"
      ],
      "text/plain": [
       "    Name        DOB EmpID  Month  Day  Year  Week Number  Day Of Week  \\\n",
       "1  Basit 1981-03-19  E983      3   19  1981           12            3   \n",
       "2   John 1999-09-12  E675      9   12  1999           36            6   \n",
       "\n",
       "   Day Name Month Name  \n",
       "1  Thursday      March  \n",
       "2    Sunday  September  "
      ]
     },
     "execution_count": 102,
     "metadata": {},
     "output_type": "execute_result"
    }
   ],
   "source": [
    "# Find employees who are born after 12-20-1980\n",
    "from datetime import date\n",
    "person[pd.to_datetime(person['DOB']) > pd.Timestamp('1980/12/20')]"
   ]
  },
  {
   "cell_type": "code",
   "execution_count": 103,
   "id": "cc96eb98",
   "metadata": {},
   "outputs": [
    {
     "data": {
      "text/html": [
       "<div>\n",
       "<style scoped>\n",
       "    .dataframe tbody tr th:only-of-type {\n",
       "        vertical-align: middle;\n",
       "    }\n",
       "\n",
       "    .dataframe tbody tr th {\n",
       "        vertical-align: top;\n",
       "    }\n",
       "\n",
       "    .dataframe thead th {\n",
       "        text-align: right;\n",
       "    }\n",
       "</style>\n",
       "<table border=\"1\" class=\"dataframe\">\n",
       "  <thead>\n",
       "    <tr style=\"text-align: right;\">\n",
       "      <th></th>\n",
       "      <th>Name</th>\n",
       "      <th>DOB</th>\n",
       "      <th>EmpID</th>\n",
       "      <th>Month</th>\n",
       "      <th>Day</th>\n",
       "      <th>Year</th>\n",
       "      <th>Week Number</th>\n",
       "      <th>Day Of Week</th>\n",
       "      <th>Day Name</th>\n",
       "      <th>Month Name</th>\n",
       "    </tr>\n",
       "  </thead>\n",
       "  <tbody>\n",
       "    <tr>\n",
       "      <th>1</th>\n",
       "      <td>Basit</td>\n",
       "      <td>1981-03-19</td>\n",
       "      <td>E983</td>\n",
       "      <td>3</td>\n",
       "      <td>19</td>\n",
       "      <td>1981</td>\n",
       "      <td>12</td>\n",
       "      <td>3</td>\n",
       "      <td>Thursday</td>\n",
       "      <td>March</td>\n",
       "    </tr>\n",
       "    <tr>\n",
       "      <th>2</th>\n",
       "      <td>John</td>\n",
       "      <td>1999-09-12</td>\n",
       "      <td>E675</td>\n",
       "      <td>9</td>\n",
       "      <td>12</td>\n",
       "      <td>1999</td>\n",
       "      <td>36</td>\n",
       "      <td>6</td>\n",
       "      <td>Sunday</td>\n",
       "      <td>September</td>\n",
       "    </tr>\n",
       "  </tbody>\n",
       "</table>\n",
       "</div>"
      ],
      "text/plain": [
       "    Name        DOB EmpID  Month  Day  Year  Week Number  Day Of Week  \\\n",
       "1  Basit 1981-03-19  E983      3   19  1981           12            3   \n",
       "2   John 1999-09-12  E675      9   12  1999           36            6   \n",
       "\n",
       "   Day Name Month Name  \n",
       "1  Thursday      March  \n",
       "2    Sunday  September  "
      ]
     },
     "execution_count": 103,
     "metadata": {},
     "output_type": "execute_result"
    }
   ],
   "source": [
    "#  Find all records where DOB is between \"12-20-1980\" - \"12-20-2000\"\n",
    "from datetime import date\n",
    "person[(pd.to_datetime(person['DOB']) > pd.Timestamp(date(1980,12,20))) &\n",
    "(pd.to_datetime(person['DOB']) < pd.Timestamp(date(2000,12,20)))]"
   ]
  },
  {
   "cell_type": "code",
   "execution_count": 104,
   "id": "9e36309d",
   "metadata": {},
   "outputs": [
    {
     "data": {
      "text/plain": [
       "Timestamp('1960-03-20 00:00:00')"
      ]
     },
     "execution_count": 104,
     "metadata": {},
     "output_type": "execute_result"
    }
   ],
   "source": [
    "# Min Date in a dataframe column\n",
    "pd.to_datetime(person['DOB']).min()"
   ]
  },
  {
   "cell_type": "code",
   "execution_count": 105,
   "id": "19680802",
   "metadata": {},
   "outputs": [
    {
     "data": {
      "text/plain": [
       "Timestamp('1999-09-12 00:00:00')"
      ]
     },
     "execution_count": 105,
     "metadata": {},
     "output_type": "execute_result"
    }
   ],
   "source": [
    "# Max Date in a dataframe column\n",
    "pd.to_datetime(person['DOB']).max()"
   ]
  },
  {
   "cell_type": "code",
   "execution_count": 106,
   "id": "65ac6e60",
   "metadata": {},
   "outputs": [
    {
     "name": "stdout",
     "output_type": "stream",
     "text": [
      "Timestamp :2022-06-04 17:57:30.053698\n"
     ]
    }
   ],
   "source": [
    "# Current timestamp\n",
    "timestamp = pd.to_datetime('now')\n",
    "print('Timestamp :{}'.format(timestamp))"
   ]
  },
  {
   "cell_type": "code",
   "execution_count": 107,
   "id": "ab26cf7b",
   "metadata": {},
   "outputs": [
    {
     "name": "stdout",
     "output_type": "stream",
     "text": [
      "Current Date : 2022-06-04\n"
     ]
    }
   ],
   "source": [
    "# Current Date (Today)\n",
    "current_date=pd.to_datetime('now').date()\n",
    "print('Current Date : {}'.format(current_date))"
   ]
  },
  {
   "cell_type": "code",
   "execution_count": 108,
   "id": "3aa50812",
   "metadata": {},
   "outputs": [
    {
     "name": "stdout",
     "output_type": "stream",
     "text": [
      "Yesterday: 2022-06-03\n"
     ]
    }
   ],
   "source": [
    "# Yesterday\n",
    "yesterday = pd.to_datetime('now').date()- pd.Timedelta('1 day')\n",
    "print('Yesterday: {}'.format(yesterday))"
   ]
  },
  {
   "cell_type": "code",
   "execution_count": 109,
   "id": "4710b34e",
   "metadata": {},
   "outputs": [
    {
     "name": "stdout",
     "output_type": "stream",
     "text": [
      "Tomorrow: 2022-06-05\n"
     ]
    }
   ],
   "source": [
    "# tomorrow\n",
    "tomorrow = pd.to_datetime('now').date() + pd.Timedelta('1 day')\n",
    "print('Tomorrow: {}'.format(tomorrow))"
   ]
  },
  {
   "cell_type": "code",
   "execution_count": 111,
   "id": "6b5075f3",
   "metadata": {},
   "outputs": [
    {
     "name": "stdout",
     "output_type": "stream",
     "text": [
      "Date after adding 1 month to current date: 2022-07-04 00:00:00\n"
     ]
    }
   ],
   "source": [
    "#Add 1 month to current date\n",
    "add_month=pd.to_datetime('now').date()+pd.DateOffset(months=1)\n",
    "print('Date after adding 1 month to current date: {}'.format(add_month))"
   ]
  },
  {
   "cell_type": "code",
   "execution_count": 113,
   "id": "bbae7fc8",
   "metadata": {},
   "outputs": [],
   "source": [
    "# Age of the person (Extract year from current time and subtract from Year column)\n",
    "person['Age'] = pd.to_datetime('now').year - person['Year']"
   ]
  },
  {
   "cell_type": "code",
   "execution_count": 114,
   "id": "20853703",
   "metadata": {},
   "outputs": [
    {
     "data": {
      "text/html": [
       "<div>\n",
       "<style scoped>\n",
       "    .dataframe tbody tr th:only-of-type {\n",
       "        vertical-align: middle;\n",
       "    }\n",
       "\n",
       "    .dataframe tbody tr th {\n",
       "        vertical-align: top;\n",
       "    }\n",
       "\n",
       "    .dataframe thead th {\n",
       "        text-align: right;\n",
       "    }\n",
       "</style>\n",
       "<table border=\"1\" class=\"dataframe\">\n",
       "  <thead>\n",
       "    <tr style=\"text-align: right;\">\n",
       "      <th></th>\n",
       "      <th>Name</th>\n",
       "      <th>DOB</th>\n",
       "      <th>EmpID</th>\n",
       "      <th>Month</th>\n",
       "      <th>Day</th>\n",
       "      <th>Year</th>\n",
       "      <th>Week Number</th>\n",
       "      <th>Day Of Week</th>\n",
       "      <th>Day Name</th>\n",
       "      <th>Month Name</th>\n",
       "      <th>Age</th>\n",
       "    </tr>\n",
       "  </thead>\n",
       "  <tbody>\n",
       "    <tr>\n",
       "      <th>0</th>\n",
       "      <td>Asif</td>\n",
       "      <td>1960-03-20</td>\n",
       "      <td>E453</td>\n",
       "      <td>3</td>\n",
       "      <td>20</td>\n",
       "      <td>1960</td>\n",
       "      <td>11</td>\n",
       "      <td>6</td>\n",
       "      <td>Sunday</td>\n",
       "      <td>March</td>\n",
       "      <td>62</td>\n",
       "    </tr>\n",
       "    <tr>\n",
       "      <th>1</th>\n",
       "      <td>Basit</td>\n",
       "      <td>1981-03-19</td>\n",
       "      <td>E983</td>\n",
       "      <td>3</td>\n",
       "      <td>19</td>\n",
       "      <td>1981</td>\n",
       "      <td>12</td>\n",
       "      <td>3</td>\n",
       "      <td>Thursday</td>\n",
       "      <td>March</td>\n",
       "      <td>41</td>\n",
       "    </tr>\n",
       "    <tr>\n",
       "      <th>2</th>\n",
       "      <td>John</td>\n",
       "      <td>1999-09-12</td>\n",
       "      <td>E675</td>\n",
       "      <td>9</td>\n",
       "      <td>12</td>\n",
       "      <td>1999</td>\n",
       "      <td>36</td>\n",
       "      <td>6</td>\n",
       "      <td>Sunday</td>\n",
       "      <td>September</td>\n",
       "      <td>23</td>\n",
       "    </tr>\n",
       "    <tr>\n",
       "      <th>3</th>\n",
       "      <td>Hary</td>\n",
       "      <td>1967-07-12</td>\n",
       "      <td>E120</td>\n",
       "      <td>7</td>\n",
       "      <td>12</td>\n",
       "      <td>1967</td>\n",
       "      <td>28</td>\n",
       "      <td>2</td>\n",
       "      <td>Wednesday</td>\n",
       "      <td>July</td>\n",
       "      <td>55</td>\n",
       "    </tr>\n",
       "  </tbody>\n",
       "</table>\n",
       "</div>"
      ],
      "text/plain": [
       "    Name        DOB EmpID  Month  Day  Year  Week Number  Day Of Week  \\\n",
       "0   Asif 1960-03-20  E453      3   20  1960           11            6   \n",
       "1  Basit 1981-03-19  E983      3   19  1981           12            3   \n",
       "2   John 1999-09-12  E675      9   12  1999           36            6   \n",
       "3   Hary 1967-07-12  E120      7   12  1967           28            2   \n",
       "\n",
       "    Day Name Month Name  Age  \n",
       "0     Sunday      March   62  \n",
       "1   Thursday      March   41  \n",
       "2     Sunday  September   23  \n",
       "3  Wednesday       July   55  "
      ]
     },
     "execution_count": 114,
     "metadata": {},
     "output_type": "execute_result"
    }
   ],
   "source": [
    "person"
   ]
  },
  {
   "cell_type": "code",
   "execution_count": 115,
   "id": "e9cfc0cb",
   "metadata": {},
   "outputs": [
    {
     "data": {
      "text/plain": [
       "0    62\n",
       "1    41\n",
       "2    23\n",
       "3    55\n",
       "Name: Age, dtype: int64"
      ]
     },
     "execution_count": 115,
     "metadata": {},
     "output_type": "execute_result"
    }
   ],
   "source": [
    "person.Age"
   ]
  },
  {
   "cell_type": "code",
   "execution_count": 116,
   "id": "1d6bb420",
   "metadata": {},
   "outputs": [
    {
     "data": {
      "text/html": [
       "<div>\n",
       "<style scoped>\n",
       "    .dataframe tbody tr th:only-of-type {\n",
       "        vertical-align: middle;\n",
       "    }\n",
       "\n",
       "    .dataframe tbody tr th {\n",
       "        vertical-align: top;\n",
       "    }\n",
       "\n",
       "    .dataframe thead th {\n",
       "        text-align: right;\n",
       "    }\n",
       "</style>\n",
       "<table border=\"1\" class=\"dataframe\">\n",
       "  <thead>\n",
       "    <tr style=\"text-align: right;\">\n",
       "      <th></th>\n",
       "      <th>Date</th>\n",
       "      <th>Births</th>\n",
       "    </tr>\n",
       "  </thead>\n",
       "  <tbody>\n",
       "    <tr>\n",
       "      <th>0</th>\n",
       "      <td>1959-01-01</td>\n",
       "      <td>35</td>\n",
       "    </tr>\n",
       "    <tr>\n",
       "      <th>1</th>\n",
       "      <td>1959-01-02</td>\n",
       "      <td>32</td>\n",
       "    </tr>\n",
       "    <tr>\n",
       "      <th>2</th>\n",
       "      <td>1959-01-03</td>\n",
       "      <td>30</td>\n",
       "    </tr>\n",
       "    <tr>\n",
       "      <th>3</th>\n",
       "      <td>1959-01-04</td>\n",
       "      <td>31</td>\n",
       "    </tr>\n",
       "    <tr>\n",
       "      <th>4</th>\n",
       "      <td>1959-01-05</td>\n",
       "      <td>44</td>\n",
       "    </tr>\n",
       "    <tr>\n",
       "      <th>5</th>\n",
       "      <td>1959-01-06</td>\n",
       "      <td>29</td>\n",
       "    </tr>\n",
       "    <tr>\n",
       "      <th>6</th>\n",
       "      <td>1959-01-07</td>\n",
       "      <td>45</td>\n",
       "    </tr>\n",
       "    <tr>\n",
       "      <th>7</th>\n",
       "      <td>1959-01-08</td>\n",
       "      <td>43</td>\n",
       "    </tr>\n",
       "    <tr>\n",
       "      <th>8</th>\n",
       "      <td>1959-01-09</td>\n",
       "      <td>38</td>\n",
       "    </tr>\n",
       "    <tr>\n",
       "      <th>9</th>\n",
       "      <td>1959-01-10</td>\n",
       "      <td>27</td>\n",
       "    </tr>\n",
       "  </tbody>\n",
       "</table>\n",
       "</div>"
      ],
      "text/plain": [
       "         Date  Births\n",
       "0  1959-01-01      35\n",
       "1  1959-01-02      32\n",
       "2  1959-01-03      30\n",
       "3  1959-01-04      31\n",
       "4  1959-01-05      44\n",
       "5  1959-01-06      29\n",
       "6  1959-01-07      45\n",
       "7  1959-01-08      43\n",
       "8  1959-01-09      38\n",
       "9  1959-01-10      27"
      ]
     },
     "execution_count": 116,
     "metadata": {},
     "output_type": "execute_result"
    }
   ],
   "source": [
    "# Lets work on simple dataset (Female birth Dataset)\n",
    "# The source of the dataset is credited to Newton (1988).\n",
    "female = pd.read_csv('https://raw.githubusercontent.com/jbrownlee/Datasets/master/daily-total-female-births.csv')\n",
    "female.head(10)"
   ]
  },
  {
   "cell_type": "code",
   "execution_count": 117,
   "id": "8259f00a",
   "metadata": {},
   "outputs": [
    {
     "data": {
      "text/plain": [
       "(365, 2)"
      ]
     },
     "execution_count": 117,
     "metadata": {},
     "output_type": "execute_result"
    }
   ],
   "source": [
    "female.shape"
   ]
  },
  {
   "cell_type": "code",
   "execution_count": 118,
   "id": "8a6d1147",
   "metadata": {},
   "outputs": [
    {
     "name": "stdout",
     "output_type": "stream",
     "text": [
      "<class 'pandas.core.frame.DataFrame'>\n",
      "RangeIndex: 365 entries, 0 to 364\n",
      "Data columns (total 2 columns):\n",
      " #   Column  Non-Null Count  Dtype \n",
      "---  ------  --------------  ----- \n",
      " 0   Date    365 non-null    object\n",
      " 1   Births  365 non-null    int64 \n",
      "dtypes: int64(1), object(1)\n",
      "memory usage: 5.8+ KB\n"
     ]
    }
   ],
   "source": [
    "female.info()"
   ]
  },
  {
   "cell_type": "code",
   "execution_count": 119,
   "id": "9d3bd48f",
   "metadata": {},
   "outputs": [
    {
     "data": {
      "text/plain": [
       "Timedelta('364 days 00:00:00')"
      ]
     },
     "execution_count": 119,
     "metadata": {},
     "output_type": "execute_result"
    }
   ],
   "source": [
    "# Find min & max date to get the date range\n",
    "pd.to_datetime(female['Date']).max()-pd.to_datetime(female['Date']).min()"
   ]
  },
  {
   "cell_type": "code",
   "execution_count": 120,
   "id": "244e4b3f",
   "metadata": {},
   "outputs": [],
   "source": [
    "# Change datatype of Date column to Datetime\n",
    "female['Date'] = pd.to_datetime(female['Date'])"
   ]
  },
  {
   "cell_type": "code",
   "execution_count": 121,
   "id": "28b88647",
   "metadata": {},
   "outputs": [],
   "source": [
    "# Create helper columns\n",
    "female['Month'] = female.Date.dt.month\n",
    "female['Day'] = female.Date.dt.day\n",
    "female['Year'] = female.Date.dt.year\n",
    "female['Week Number'] =female.Date.dt.isocalendar().week\n",
    "female['Day Of Week'] = female.Date.dt.dayofweek\n",
    "female['Day Name']=pd.to_datetime(female['Date']).dt.day_name()\n",
    "female['Month Name']=pd.to_datetime(female['Date']).dt.month_name()"
   ]
  },
  {
   "cell_type": "code",
   "execution_count": 122,
   "id": "d0f447fb",
   "metadata": {},
   "outputs": [
    {
     "data": {
      "text/html": [
       "<div>\n",
       "<style scoped>\n",
       "    .dataframe tbody tr th:only-of-type {\n",
       "        vertical-align: middle;\n",
       "    }\n",
       "\n",
       "    .dataframe tbody tr th {\n",
       "        vertical-align: top;\n",
       "    }\n",
       "\n",
       "    .dataframe thead th {\n",
       "        text-align: right;\n",
       "    }\n",
       "</style>\n",
       "<table border=\"1\" class=\"dataframe\">\n",
       "  <thead>\n",
       "    <tr style=\"text-align: right;\">\n",
       "      <th></th>\n",
       "      <th>Date</th>\n",
       "      <th>Births</th>\n",
       "      <th>Month</th>\n",
       "      <th>Day</th>\n",
       "      <th>Year</th>\n",
       "      <th>Week Number</th>\n",
       "      <th>Day Of Week</th>\n",
       "      <th>Day Name</th>\n",
       "      <th>Month Name</th>\n",
       "    </tr>\n",
       "  </thead>\n",
       "  <tbody>\n",
       "    <tr>\n",
       "      <th>0</th>\n",
       "      <td>1959-01-01</td>\n",
       "      <td>35</td>\n",
       "      <td>1</td>\n",
       "      <td>1</td>\n",
       "      <td>1959</td>\n",
       "      <td>1</td>\n",
       "      <td>3</td>\n",
       "      <td>Thursday</td>\n",
       "      <td>January</td>\n",
       "    </tr>\n",
       "    <tr>\n",
       "      <th>1</th>\n",
       "      <td>1959-01-02</td>\n",
       "      <td>32</td>\n",
       "      <td>1</td>\n",
       "      <td>2</td>\n",
       "      <td>1959</td>\n",
       "      <td>1</td>\n",
       "      <td>4</td>\n",
       "      <td>Friday</td>\n",
       "      <td>January</td>\n",
       "    </tr>\n",
       "    <tr>\n",
       "      <th>2</th>\n",
       "      <td>1959-01-03</td>\n",
       "      <td>30</td>\n",
       "      <td>1</td>\n",
       "      <td>3</td>\n",
       "      <td>1959</td>\n",
       "      <td>1</td>\n",
       "      <td>5</td>\n",
       "      <td>Saturday</td>\n",
       "      <td>January</td>\n",
       "    </tr>\n",
       "    <tr>\n",
       "      <th>3</th>\n",
       "      <td>1959-01-04</td>\n",
       "      <td>31</td>\n",
       "      <td>1</td>\n",
       "      <td>4</td>\n",
       "      <td>1959</td>\n",
       "      <td>1</td>\n",
       "      <td>6</td>\n",
       "      <td>Sunday</td>\n",
       "      <td>January</td>\n",
       "    </tr>\n",
       "    <tr>\n",
       "      <th>4</th>\n",
       "      <td>1959-01-05</td>\n",
       "      <td>44</td>\n",
       "      <td>1</td>\n",
       "      <td>5</td>\n",
       "      <td>1959</td>\n",
       "      <td>2</td>\n",
       "      <td>0</td>\n",
       "      <td>Monday</td>\n",
       "      <td>January</td>\n",
       "    </tr>\n",
       "    <tr>\n",
       "      <th>...</th>\n",
       "      <td>...</td>\n",
       "      <td>...</td>\n",
       "      <td>...</td>\n",
       "      <td>...</td>\n",
       "      <td>...</td>\n",
       "      <td>...</td>\n",
       "      <td>...</td>\n",
       "      <td>...</td>\n",
       "      <td>...</td>\n",
       "    </tr>\n",
       "    <tr>\n",
       "      <th>360</th>\n",
       "      <td>1959-12-27</td>\n",
       "      <td>37</td>\n",
       "      <td>12</td>\n",
       "      <td>27</td>\n",
       "      <td>1959</td>\n",
       "      <td>52</td>\n",
       "      <td>6</td>\n",
       "      <td>Sunday</td>\n",
       "      <td>December</td>\n",
       "    </tr>\n",
       "    <tr>\n",
       "      <th>361</th>\n",
       "      <td>1959-12-28</td>\n",
       "      <td>52</td>\n",
       "      <td>12</td>\n",
       "      <td>28</td>\n",
       "      <td>1959</td>\n",
       "      <td>53</td>\n",
       "      <td>0</td>\n",
       "      <td>Monday</td>\n",
       "      <td>December</td>\n",
       "    </tr>\n",
       "    <tr>\n",
       "      <th>362</th>\n",
       "      <td>1959-12-29</td>\n",
       "      <td>48</td>\n",
       "      <td>12</td>\n",
       "      <td>29</td>\n",
       "      <td>1959</td>\n",
       "      <td>53</td>\n",
       "      <td>1</td>\n",
       "      <td>Tuesday</td>\n",
       "      <td>December</td>\n",
       "    </tr>\n",
       "    <tr>\n",
       "      <th>363</th>\n",
       "      <td>1959-12-30</td>\n",
       "      <td>55</td>\n",
       "      <td>12</td>\n",
       "      <td>30</td>\n",
       "      <td>1959</td>\n",
       "      <td>53</td>\n",
       "      <td>2</td>\n",
       "      <td>Wednesday</td>\n",
       "      <td>December</td>\n",
       "    </tr>\n",
       "    <tr>\n",
       "      <th>364</th>\n",
       "      <td>1959-12-31</td>\n",
       "      <td>50</td>\n",
       "      <td>12</td>\n",
       "      <td>31</td>\n",
       "      <td>1959</td>\n",
       "      <td>53</td>\n",
       "      <td>3</td>\n",
       "      <td>Thursday</td>\n",
       "      <td>December</td>\n",
       "    </tr>\n",
       "  </tbody>\n",
       "</table>\n",
       "<p>365 rows × 9 columns</p>\n",
       "</div>"
      ],
      "text/plain": [
       "          Date  Births  Month  Day  Year  Week Number  Day Of Week   Day Name  \\\n",
       "0   1959-01-01      35      1    1  1959            1            3   Thursday   \n",
       "1   1959-01-02      32      1    2  1959            1            4     Friday   \n",
       "2   1959-01-03      30      1    3  1959            1            5   Saturday   \n",
       "3   1959-01-04      31      1    4  1959            1            6     Sunday   \n",
       "4   1959-01-05      44      1    5  1959            2            0     Monday   \n",
       "..         ...     ...    ...  ...   ...          ...          ...        ...   \n",
       "360 1959-12-27      37     12   27  1959           52            6     Sunday   \n",
       "361 1959-12-28      52     12   28  1959           53            0     Monday   \n",
       "362 1959-12-29      48     12   29  1959           53            1    Tuesday   \n",
       "363 1959-12-30      55     12   30  1959           53            2  Wednesday   \n",
       "364 1959-12-31      50     12   31  1959           53            3   Thursday   \n",
       "\n",
       "    Month Name  \n",
       "0      January  \n",
       "1      January  \n",
       "2      January  \n",
       "3      January  \n",
       "4      January  \n",
       "..         ...  \n",
       "360   December  \n",
       "361   December  \n",
       "362   December  \n",
       "363   December  \n",
       "364   December  \n",
       "\n",
       "[365 rows x 9 columns]"
      ]
     },
     "execution_count": 122,
     "metadata": {},
     "output_type": "execute_result"
    }
   ],
   "source": [
    "female"
   ]
  },
  {
   "cell_type": "code",
   "execution_count": 123,
   "id": "ff3df200",
   "metadata": {},
   "outputs": [
    {
     "data": {
      "text/plain": [
       "1213"
      ]
     },
     "execution_count": 123,
     "metadata": {},
     "output_type": "execute_result"
    }
   ],
   "source": [
    "# Total female births in the month of January\n",
    "female[female['Month Name'] =='January']['Births'].sum()"
   ]
  },
  {
   "cell_type": "code",
   "execution_count": 130,
   "id": "3777c637",
   "metadata": {},
   "outputs": [
    {
     "name": "stdout",
     "output_type": "stream",
     "text": [
      "Female births in January : 1213\n",
      "Female births in February : 1148\n",
      "Female births in March : 1218\n",
      "Female births in April : 1195\n",
      "Female births in May : 1208\n",
      "Female births in June : 1212\n",
      "Female births in July : 1300\n",
      "Female births in August : 1351\n",
      "Female births in September : 1446\n",
      "Female births in October : 1368\n",
      "Female births in November : 1350\n",
      "Female births in December : 1314\n"
     ]
    }
   ],
   "source": [
    "# Total female births in each month using for loop\n",
    "for i in female['Month Name'].unique():\n",
    "    print('Female births in {0} : {1}'.format(i,female[female['Month Name'] ==i]['Births'].sum()))"
   ]
  },
  {
   "cell_type": "code",
   "execution_count": 131,
   "id": "e5767aa2",
   "metadata": {},
   "outputs": [
    {
     "data": {
      "text/html": [
       "<div>\n",
       "<style scoped>\n",
       "    .dataframe tbody tr th:only-of-type {\n",
       "        vertical-align: middle;\n",
       "    }\n",
       "\n",
       "    .dataframe tbody tr th {\n",
       "        vertical-align: top;\n",
       "    }\n",
       "\n",
       "    .dataframe thead th {\n",
       "        text-align: right;\n",
       "    }\n",
       "</style>\n",
       "<table border=\"1\" class=\"dataframe\">\n",
       "  <thead>\n",
       "    <tr style=\"text-align: right;\">\n",
       "      <th></th>\n",
       "      <th>Births</th>\n",
       "    </tr>\n",
       "    <tr>\n",
       "      <th>Month Name</th>\n",
       "      <th></th>\n",
       "    </tr>\n",
       "  </thead>\n",
       "  <tbody>\n",
       "    <tr>\n",
       "      <th>April</th>\n",
       "      <td>1195</td>\n",
       "    </tr>\n",
       "    <tr>\n",
       "      <th>August</th>\n",
       "      <td>1351</td>\n",
       "    </tr>\n",
       "    <tr>\n",
       "      <th>December</th>\n",
       "      <td>1314</td>\n",
       "    </tr>\n",
       "    <tr>\n",
       "      <th>February</th>\n",
       "      <td>1148</td>\n",
       "    </tr>\n",
       "    <tr>\n",
       "      <th>January</th>\n",
       "      <td>1213</td>\n",
       "    </tr>\n",
       "    <tr>\n",
       "      <th>July</th>\n",
       "      <td>1300</td>\n",
       "    </tr>\n",
       "    <tr>\n",
       "      <th>June</th>\n",
       "      <td>1212</td>\n",
       "    </tr>\n",
       "    <tr>\n",
       "      <th>March</th>\n",
       "      <td>1218</td>\n",
       "    </tr>\n",
       "    <tr>\n",
       "      <th>May</th>\n",
       "      <td>1208</td>\n",
       "    </tr>\n",
       "    <tr>\n",
       "      <th>November</th>\n",
       "      <td>1350</td>\n",
       "    </tr>\n",
       "    <tr>\n",
       "      <th>October</th>\n",
       "      <td>1368</td>\n",
       "    </tr>\n",
       "    <tr>\n",
       "      <th>September</th>\n",
       "      <td>1446</td>\n",
       "    </tr>\n",
       "  </tbody>\n",
       "</table>\n",
       "</div>"
      ],
      "text/plain": [
       "            Births\n",
       "Month Name        \n",
       "April         1195\n",
       "August        1351\n",
       "December      1314\n",
       "February      1148\n",
       "January       1213\n",
       "July          1300\n",
       "June          1212\n",
       "March         1218\n",
       "May           1208\n",
       "November      1350\n",
       "October       1368\n",
       "September     1446"
      ]
     },
     "execution_count": 131,
     "metadata": {},
     "output_type": "execute_result"
    }
   ],
   "source": [
    "# Using \"group by\" to get female births in each month\n",
    "female.groupby('Month Name').sum()[['Births']]"
   ]
  },
  {
   "cell_type": "markdown",
   "id": "1331211d",
   "metadata": {},
   "source": [
    "## Plotting - Visualization using pandas"
   ]
  },
  {
   "cell_type": "code",
   "execution_count": 132,
   "id": "960390fb",
   "metadata": {},
   "outputs": [
    {
     "data": {
      "text/plain": [
       "<AxesSubplot:xlabel='Month Name'>"
      ]
     },
     "execution_count": 132,
     "metadata": {},
     "output_type": "execute_result"
    },
    {
     "data": {
      "image/png": "[encoded data removed]",
      "text/plain": [
       "<Figure size 432x288 with 1 Axes>"
      ]
     },
     "metadata": {
      "needs_background": "light"
     },
     "output_type": "display_data"
    }
   ],
   "source": [
    "# Use Pivot table to get female births in each month\n",
    "pd.pivot_table(female,values=['Births'],index=['Month Name'],aggfunc=np.sum) # Month Name data is not in proper order.\n",
    "pd.pivot_table(female,values=['Births'],index=['Month Name'],aggfunc=np.sum).plot.bar()"
   ]
  },
  {
   "cell_type": "code",
   "execution_count": 133,
   "id": "611d6670",
   "metadata": {},
   "outputs": [
    {
     "data": {
      "image/png": "[encoded data removed]",
      "text/plain": [
       "<Figure size 1008x432 with 1 Axes>"
      ]
     },
     "metadata": {
      "needs_background": "light"
     },
     "output_type": "display_data"
    }
   ],
   "source": [
    "# Bar plot to get monthly female births using matplotlib library\n",
    "plt.figure(figsize=(14,6))\n",
    "plt.bar(female.groupby('Month Name').sum().index,female.groupby('Month Name').sum()['Births'])\n",
    "plt.show()"
   ]
  },
  {
   "cell_type": "code",
   "execution_count": 134,
   "id": "3a67d310",
   "metadata": {},
   "outputs": [
    {
     "data": {
      "text/plain": [
       "<AxesSubplot:xlabel='Month Name'>"
      ]
     },
     "execution_count": 134,
     "metadata": {},
     "output_type": "execute_result"
    },
    {
     "data": {
      "image/png": "[encoded data removed]",
      "text/plain": [
       "<Figure size 432x288 with 1 Axes>"
      ]
     },
     "metadata": {
      "needs_background": "light"
     },
     "output_type": "display_data"
    }
   ],
   "source": [
    "# Bar plot to get monthly female births using Pandas\n",
    "pd.pivot_table(female,values=['Births'],index=['Month Name'],aggfunc=np.sum).plot.bar()"
   ]
  },
  {
   "cell_type": "code",
   "execution_count": 135,
   "id": "6753d360",
   "metadata": {},
   "outputs": [
    {
     "data": {
      "image/png": "[encoded data removed]",
      "text/plain": [
       "<Figure size 1008x432 with 1 Axes>"
      ]
     },
     "metadata": {
      "needs_background": "light"
     },
     "output_type": "display_data"
    }
   ],
   "source": [
    "# Plot Bar Graph to show female births on day basis.\n",
    "plt.figure(figsize=(14,6))\n",
    "plt.bar(female.groupby('Day Name').sum().index,female.groupby('Day Name').sum()['Births'])\n",
    "plt.show()"
   ]
  },
  {
   "cell_type": "code",
   "execution_count": 136,
   "id": "dba2120a",
   "metadata": {},
   "outputs": [
    {
     "data": {
      "text/plain": [
       "[<matplotlib.lines.Line2D at 0x122964b9460>]"
      ]
     },
     "execution_count": 136,
     "metadata": {},
     "output_type": "execute_result"
    },
    {
     "data": {
      "image/png": "[encoded data removed]",
      "text/plain": [
       "<Figure size 1080x360 with 1 Axes>"
      ]
     },
     "metadata": {
      "needs_background": "light"
     },
     "output_type": "display_data"
    }
   ],
   "source": [
    "# Daily female births\n",
    "plt.figure(figsize=(15,5))\n",
    "plt.plot(female['Date'],female['Births'])"
   ]
  },
  {
   "cell_type": "code",
   "execution_count": 137,
   "id": "cdc8db61",
   "metadata": {},
   "outputs": [
    {
     "data": {
      "text/html": [
       "<div>\n",
       "<style scoped>\n",
       "    .dataframe tbody tr th:only-of-type {\n",
       "        vertical-align: middle;\n",
       "    }\n",
       "\n",
       "    .dataframe tbody tr th {\n",
       "        vertical-align: top;\n",
       "    }\n",
       "\n",
       "    .dataframe thead th {\n",
       "        text-align: right;\n",
       "    }\n",
       "</style>\n",
       "<table border=\"1\" class=\"dataframe\">\n",
       "  <thead>\n",
       "    <tr style=\"text-align: right;\">\n",
       "      <th></th>\n",
       "      <th>Date</th>\n",
       "      <th>Births</th>\n",
       "      <th>Month</th>\n",
       "      <th>Day</th>\n",
       "      <th>Year</th>\n",
       "      <th>Week Number</th>\n",
       "      <th>Day Of Week</th>\n",
       "      <th>Day Name</th>\n",
       "      <th>Month Name</th>\n",
       "    </tr>\n",
       "  </thead>\n",
       "  <tbody>\n",
       "    <tr>\n",
       "      <th>1</th>\n",
       "      <td>1959-01-02</td>\n",
       "      <td>32</td>\n",
       "      <td>1</td>\n",
       "      <td>2</td>\n",
       "      <td>1959</td>\n",
       "      <td>1</td>\n",
       "      <td>4</td>\n",
       "      <td>Friday</td>\n",
       "      <td>January</td>\n",
       "    </tr>\n",
       "    <tr>\n",
       "      <th>2</th>\n",
       "      <td>1959-01-03</td>\n",
       "      <td>30</td>\n",
       "      <td>1</td>\n",
       "      <td>3</td>\n",
       "      <td>1959</td>\n",
       "      <td>1</td>\n",
       "      <td>5</td>\n",
       "      <td>Saturday</td>\n",
       "      <td>January</td>\n",
       "    </tr>\n",
       "    <tr>\n",
       "      <th>3</th>\n",
       "      <td>1959-01-04</td>\n",
       "      <td>31</td>\n",
       "      <td>1</td>\n",
       "      <td>4</td>\n",
       "      <td>1959</td>\n",
       "      <td>1</td>\n",
       "      <td>6</td>\n",
       "      <td>Sunday</td>\n",
       "      <td>January</td>\n",
       "    </tr>\n",
       "    <tr>\n",
       "      <th>4</th>\n",
       "      <td>1959-01-05</td>\n",
       "      <td>44</td>\n",
       "      <td>1</td>\n",
       "      <td>5</td>\n",
       "      <td>1959</td>\n",
       "      <td>2</td>\n",
       "      <td>0</td>\n",
       "      <td>Monday</td>\n",
       "      <td>January</td>\n",
       "    </tr>\n",
       "    <tr>\n",
       "      <th>5</th>\n",
       "      <td>1959-01-06</td>\n",
       "      <td>29</td>\n",
       "      <td>1</td>\n",
       "      <td>6</td>\n",
       "      <td>1959</td>\n",
       "      <td>2</td>\n",
       "      <td>1</td>\n",
       "      <td>Tuesday</td>\n",
       "      <td>January</td>\n",
       "    </tr>\n",
       "    <tr>\n",
       "      <th>6</th>\n",
       "      <td>1959-01-07</td>\n",
       "      <td>45</td>\n",
       "      <td>1</td>\n",
       "      <td>7</td>\n",
       "      <td>1959</td>\n",
       "      <td>2</td>\n",
       "      <td>2</td>\n",
       "      <td>Wednesday</td>\n",
       "      <td>January</td>\n",
       "    </tr>\n",
       "    <tr>\n",
       "      <th>7</th>\n",
       "      <td>1959-01-08</td>\n",
       "      <td>43</td>\n",
       "      <td>1</td>\n",
       "      <td>8</td>\n",
       "      <td>1959</td>\n",
       "      <td>2</td>\n",
       "      <td>3</td>\n",
       "      <td>Thursday</td>\n",
       "      <td>January</td>\n",
       "    </tr>\n",
       "    <tr>\n",
       "      <th>8</th>\n",
       "      <td>1959-01-09</td>\n",
       "      <td>38</td>\n",
       "      <td>1</td>\n",
       "      <td>9</td>\n",
       "      <td>1959</td>\n",
       "      <td>2</td>\n",
       "      <td>4</td>\n",
       "      <td>Friday</td>\n",
       "      <td>January</td>\n",
       "    </tr>\n",
       "    <tr>\n",
       "      <th>9</th>\n",
       "      <td>1959-01-10</td>\n",
       "      <td>27</td>\n",
       "      <td>1</td>\n",
       "      <td>10</td>\n",
       "      <td>1959</td>\n",
       "      <td>2</td>\n",
       "      <td>5</td>\n",
       "      <td>Saturday</td>\n",
       "      <td>January</td>\n",
       "    </tr>\n",
       "    <tr>\n",
       "      <th>10</th>\n",
       "      <td>1959-01-11</td>\n",
       "      <td>38</td>\n",
       "      <td>1</td>\n",
       "      <td>11</td>\n",
       "      <td>1959</td>\n",
       "      <td>2</td>\n",
       "      <td>6</td>\n",
       "      <td>Sunday</td>\n",
       "      <td>January</td>\n",
       "    </tr>\n",
       "    <tr>\n",
       "      <th>11</th>\n",
       "      <td>1959-01-12</td>\n",
       "      <td>33</td>\n",
       "      <td>1</td>\n",
       "      <td>12</td>\n",
       "      <td>1959</td>\n",
       "      <td>3</td>\n",
       "      <td>0</td>\n",
       "      <td>Monday</td>\n",
       "      <td>January</td>\n",
       "    </tr>\n",
       "    <tr>\n",
       "      <th>12</th>\n",
       "      <td>1959-01-13</td>\n",
       "      <td>55</td>\n",
       "      <td>1</td>\n",
       "      <td>13</td>\n",
       "      <td>1959</td>\n",
       "      <td>3</td>\n",
       "      <td>1</td>\n",
       "      <td>Tuesday</td>\n",
       "      <td>January</td>\n",
       "    </tr>\n",
       "    <tr>\n",
       "      <th>13</th>\n",
       "      <td>1959-01-14</td>\n",
       "      <td>47</td>\n",
       "      <td>1</td>\n",
       "      <td>14</td>\n",
       "      <td>1959</td>\n",
       "      <td>3</td>\n",
       "      <td>2</td>\n",
       "      <td>Wednesday</td>\n",
       "      <td>January</td>\n",
       "    </tr>\n",
       "    <tr>\n",
       "      <th>14</th>\n",
       "      <td>1959-01-15</td>\n",
       "      <td>45</td>\n",
       "      <td>1</td>\n",
       "      <td>15</td>\n",
       "      <td>1959</td>\n",
       "      <td>3</td>\n",
       "      <td>3</td>\n",
       "      <td>Thursday</td>\n",
       "      <td>January</td>\n",
       "    </tr>\n",
       "    <tr>\n",
       "      <th>15</th>\n",
       "      <td>1959-01-16</td>\n",
       "      <td>37</td>\n",
       "      <td>1</td>\n",
       "      <td>16</td>\n",
       "      <td>1959</td>\n",
       "      <td>3</td>\n",
       "      <td>4</td>\n",
       "      <td>Friday</td>\n",
       "      <td>January</td>\n",
       "    </tr>\n",
       "    <tr>\n",
       "      <th>16</th>\n",
       "      <td>1959-01-17</td>\n",
       "      <td>50</td>\n",
       "      <td>1</td>\n",
       "      <td>17</td>\n",
       "      <td>1959</td>\n",
       "      <td>3</td>\n",
       "      <td>5</td>\n",
       "      <td>Saturday</td>\n",
       "      <td>January</td>\n",
       "    </tr>\n",
       "    <tr>\n",
       "      <th>17</th>\n",
       "      <td>1959-01-18</td>\n",
       "      <td>43</td>\n",
       "      <td>1</td>\n",
       "      <td>18</td>\n",
       "      <td>1959</td>\n",
       "      <td>3</td>\n",
       "      <td>6</td>\n",
       "      <td>Sunday</td>\n",
       "      <td>January</td>\n",
       "    </tr>\n",
       "    <tr>\n",
       "      <th>18</th>\n",
       "      <td>1959-01-19</td>\n",
       "      <td>41</td>\n",
       "      <td>1</td>\n",
       "      <td>19</td>\n",
       "      <td>1959</td>\n",
       "      <td>4</td>\n",
       "      <td>0</td>\n",
       "      <td>Monday</td>\n",
       "      <td>January</td>\n",
       "    </tr>\n",
       "    <tr>\n",
       "      <th>19</th>\n",
       "      <td>1959-01-20</td>\n",
       "      <td>52</td>\n",
       "      <td>1</td>\n",
       "      <td>20</td>\n",
       "      <td>1959</td>\n",
       "      <td>4</td>\n",
       "      <td>1</td>\n",
       "      <td>Tuesday</td>\n",
       "      <td>January</td>\n",
       "    </tr>\n",
       "    <tr>\n",
       "      <th>20</th>\n",
       "      <td>1959-01-21</td>\n",
       "      <td>34</td>\n",
       "      <td>1</td>\n",
       "      <td>21</td>\n",
       "      <td>1959</td>\n",
       "      <td>4</td>\n",
       "      <td>2</td>\n",
       "      <td>Wednesday</td>\n",
       "      <td>January</td>\n",
       "    </tr>\n",
       "    <tr>\n",
       "      <th>21</th>\n",
       "      <td>1959-01-22</td>\n",
       "      <td>53</td>\n",
       "      <td>1</td>\n",
       "      <td>22</td>\n",
       "      <td>1959</td>\n",
       "      <td>4</td>\n",
       "      <td>3</td>\n",
       "      <td>Thursday</td>\n",
       "      <td>January</td>\n",
       "    </tr>\n",
       "    <tr>\n",
       "      <th>22</th>\n",
       "      <td>1959-01-23</td>\n",
       "      <td>39</td>\n",
       "      <td>1</td>\n",
       "      <td>23</td>\n",
       "      <td>1959</td>\n",
       "      <td>4</td>\n",
       "      <td>4</td>\n",
       "      <td>Friday</td>\n",
       "      <td>January</td>\n",
       "    </tr>\n",
       "    <tr>\n",
       "      <th>23</th>\n",
       "      <td>1959-01-24</td>\n",
       "      <td>32</td>\n",
       "      <td>1</td>\n",
       "      <td>24</td>\n",
       "      <td>1959</td>\n",
       "      <td>4</td>\n",
       "      <td>5</td>\n",
       "      <td>Saturday</td>\n",
       "      <td>January</td>\n",
       "    </tr>\n",
       "    <tr>\n",
       "      <th>24</th>\n",
       "      <td>1959-01-25</td>\n",
       "      <td>37</td>\n",
       "      <td>1</td>\n",
       "      <td>25</td>\n",
       "      <td>1959</td>\n",
       "      <td>4</td>\n",
       "      <td>6</td>\n",
       "      <td>Sunday</td>\n",
       "      <td>January</td>\n",
       "    </tr>\n",
       "    <tr>\n",
       "      <th>25</th>\n",
       "      <td>1959-01-26</td>\n",
       "      <td>43</td>\n",
       "      <td>1</td>\n",
       "      <td>26</td>\n",
       "      <td>1959</td>\n",
       "      <td>5</td>\n",
       "      <td>0</td>\n",
       "      <td>Monday</td>\n",
       "      <td>January</td>\n",
       "    </tr>\n",
       "    <tr>\n",
       "      <th>26</th>\n",
       "      <td>1959-01-27</td>\n",
       "      <td>39</td>\n",
       "      <td>1</td>\n",
       "      <td>27</td>\n",
       "      <td>1959</td>\n",
       "      <td>5</td>\n",
       "      <td>1</td>\n",
       "      <td>Tuesday</td>\n",
       "      <td>January</td>\n",
       "    </tr>\n",
       "    <tr>\n",
       "      <th>27</th>\n",
       "      <td>1959-01-28</td>\n",
       "      <td>35</td>\n",
       "      <td>1</td>\n",
       "      <td>28</td>\n",
       "      <td>1959</td>\n",
       "      <td>5</td>\n",
       "      <td>2</td>\n",
       "      <td>Wednesday</td>\n",
       "      <td>January</td>\n",
       "    </tr>\n",
       "    <tr>\n",
       "      <th>28</th>\n",
       "      <td>1959-01-29</td>\n",
       "      <td>44</td>\n",
       "      <td>1</td>\n",
       "      <td>29</td>\n",
       "      <td>1959</td>\n",
       "      <td>5</td>\n",
       "      <td>3</td>\n",
       "      <td>Thursday</td>\n",
       "      <td>January</td>\n",
       "    </tr>\n",
       "    <tr>\n",
       "      <th>29</th>\n",
       "      <td>1959-01-30</td>\n",
       "      <td>38</td>\n",
       "      <td>1</td>\n",
       "      <td>30</td>\n",
       "      <td>1959</td>\n",
       "      <td>5</td>\n",
       "      <td>4</td>\n",
       "      <td>Friday</td>\n",
       "      <td>January</td>\n",
       "    </tr>\n",
       "  </tbody>\n",
       "</table>\n",
       "</div>"
      ],
      "text/plain": [
       "         Date  Births  Month  Day  Year  Week Number  Day Of Week   Day Name  \\\n",
       "1  1959-01-02      32      1    2  1959            1            4     Friday   \n",
       "2  1959-01-03      30      1    3  1959            1            5   Saturday   \n",
       "3  1959-01-04      31      1    4  1959            1            6     Sunday   \n",
       "4  1959-01-05      44      1    5  1959            2            0     Monday   \n",
       "5  1959-01-06      29      1    6  1959            2            1    Tuesday   \n",
       "6  1959-01-07      45      1    7  1959            2            2  Wednesday   \n",
       "7  1959-01-08      43      1    8  1959            2            3   Thursday   \n",
       "8  1959-01-09      38      1    9  1959            2            4     Friday   \n",
       "9  1959-01-10      27      1   10  1959            2            5   Saturday   \n",
       "10 1959-01-11      38      1   11  1959            2            6     Sunday   \n",
       "11 1959-01-12      33      1   12  1959            3            0     Monday   \n",
       "12 1959-01-13      55      1   13  1959            3            1    Tuesday   \n",
       "13 1959-01-14      47      1   14  1959            3            2  Wednesday   \n",
       "14 1959-01-15      45      1   15  1959            3            3   Thursday   \n",
       "15 1959-01-16      37      1   16  1959            3            4     Friday   \n",
       "16 1959-01-17      50      1   17  1959            3            5   Saturday   \n",
       "17 1959-01-18      43      1   18  1959            3            6     Sunday   \n",
       "18 1959-01-19      41      1   19  1959            4            0     Monday   \n",
       "19 1959-01-20      52      1   20  1959            4            1    Tuesday   \n",
       "20 1959-01-21      34      1   21  1959            4            2  Wednesday   \n",
       "21 1959-01-22      53      1   22  1959            4            3   Thursday   \n",
       "22 1959-01-23      39      1   23  1959            4            4     Friday   \n",
       "23 1959-01-24      32      1   24  1959            4            5   Saturday   \n",
       "24 1959-01-25      37      1   25  1959            4            6     Sunday   \n",
       "25 1959-01-26      43      1   26  1959            5            0     Monday   \n",
       "26 1959-01-27      39      1   27  1959            5            1    Tuesday   \n",
       "27 1959-01-28      35      1   28  1959            5            2  Wednesday   \n",
       "28 1959-01-29      44      1   29  1959            5            3   Thursday   \n",
       "29 1959-01-30      38      1   30  1959            5            4     Friday   \n",
       "\n",
       "   Month Name  \n",
       "1     January  \n",
       "2     January  \n",
       "3     January  \n",
       "4     January  \n",
       "5     January  \n",
       "6     January  \n",
       "7     January  \n",
       "8     January  \n",
       "9     January  \n",
       "10    January  \n",
       "11    January  \n",
       "12    January  \n",
       "13    January  \n",
       "14    January  \n",
       "15    January  \n",
       "16    January  \n",
       "17    January  \n",
       "18    January  \n",
       "19    January  \n",
       "20    January  \n",
       "21    January  \n",
       "22    January  \n",
       "23    January  \n",
       "24    January  \n",
       "25    January  \n",
       "26    January  \n",
       "27    January  \n",
       "28    January  \n",
       "29    January  "
      ]
     },
     "execution_count": 137,
     "metadata": {},
     "output_type": "execute_result"
    }
   ],
   "source": [
    "# Get all records for the month of Janaury(1959-01-01 - 1959-01-31).\n",
    "# Using boolean is not good method when we are dealing with large datasets.\n",
    "female[(pd.to_datetime(female['Date']) > pd.Timestamp(date(1959,1,1))) &\n",
    "(pd.to_datetime(female['Date']) < pd.Timestamp(date(1959,1,31)))]"
   ]
  }
 ],
 "metadata": {
  "kernelspec": {
   "display_name": "Python 3",
   "language": "python",
   "name": "python3"
  },
  "language_info": {
   "codemirror_mode": {
    "name": "ipython",
    "version": 3
   },
   "file_extension": ".py",
   "mimetype": "text/x-python",
   "name": "python",
   "nbconvert_exporter": "python",
   "pygments_lexer": "ipython3",
   "version": "3.8.8"
  }
 },
 "nbformat": 4,
 "nbformat_minor": 5
}
